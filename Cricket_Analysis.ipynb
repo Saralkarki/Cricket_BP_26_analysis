{
 "cells": [
  {
   "cell_type": "markdown",
   "metadata": {
    "hideCode": false,
    "hidePrompt": false
   },
   "source": [
    "Cricket Analysis"
   ]
  },
  {
   "cell_type": "markdown",
   "metadata": {},
   "source": [
    "This analysis is a replication of the research done by \" \". However, the dataset is different than the replicated research paper. Also, it looks at the batting rankings only. All of the data were obtained from ESPN Cricinfo.com.\n"
   ]
  },
  {
   "cell_type": "markdown",
   "metadata": {},
   "source": [
    "Firstly, the required libraries were imported."
   ]
  },
  {
   "cell_type": "code",
   "execution_count": 1,
   "metadata": {
    "hideCode": false,
    "hidePrompt": false
   },
   "outputs": [],
   "source": [
    "#Import required libraries\n",
    "import pandas as pd \n",
    "import requests\n",
    "import numpy as np\n",
    "from pandas.tools.plotting import table\n"
   ]
  },
  {
   "cell_type": "markdown",
   "metadata": {},
   "source": [
    "Importing the overall batting statistics for the 2013 T20 world cup. After importing the dataset , I have dropped the columns that I do not need for this analysis. "
   ]
  },
  {
   "cell_type": "code",
   "execution_count": 2,
   "metadata": {
    "hideCode": false,
    "hidePrompt": false
   },
   "outputs": [],
   "source": [
    "#import the data set\n",
    "\n",
    "\n",
    "url = 'http://stats.espncricinfo.com/world-t20/engine/records/averages/batting.html?id=8083;type=tournament'\n",
    "html = requests.get(url).content\n",
    "df_list = pd.read_html(html)\n",
    "df = df_list[0]\n",
    "df.drop(df.columns[[9,10,11,12,13]],axis=1, inplace=True)"
   ]
  },
  {
   "cell_type": "code",
   "execution_count": 9,
   "metadata": {
    "hideCode": false,
    "hidePrompt": false
   },
   "outputs": [
    {
     "data": {
      "text/plain": [
       "pandas.core.frame.DataFrame"
      ]
     },
     "execution_count": 9,
     "metadata": {},
     "output_type": "execute_result"
    }
   ],
   "source": [
    "\n",
    "type(df)"
   ]
  },
  {
   "cell_type": "markdown",
   "metadata": {},
   "source": [
    "Since, all of the variables in the columns were of object type, I had to convert them to integer or float type to be able to make necessary calculation. However, I was unable to make the conversion in the High Score (HS) column, because of the * characters which represented the Not Out scores of batsmen. I stripped the character off from the data and only had numbers. "
   ]
  },
  {
   "cell_type": "code",
   "execution_count": 28,
   "metadata": {
    "hideCode": false,
    "hidePrompt": false
   },
   "outputs": [],
   "source": [
    "#strip of the * character from the HS colname\n",
    "# @hidden_cell\n",
    "df['HS'] = df['HS'].map(lambda x:x.rstrip('*'))\n"
   ]
  },
  {
   "cell_type": "markdown",
   "metadata": {},
   "source": [
    "Once the dataset was stripped off the * character, I was able to make the transistion to integer. However, there were some '-' characters, I was able to add an exception using errors='coerce' so that the columns could be converted to interger. "
   ]
  },
  {
   "cell_type": "code",
   "execution_count": 29,
   "metadata": {
    "hideCode": false,
    "hidePrompt": false
   },
   "outputs": [],
   "source": [
    "#Convert the values to int or float and replace missing values with Nan\n",
    "df['Ave']=df.Ave.apply(pd.to_numeric, errors='coerce')\n",
    "df['Inns']=df.Inns.apply(pd.to_numeric, errors='coerce')\n",
    "df['NO']=df.NO.apply(pd.to_numeric, errors='coerce')\n",
    "df['Runs']=df.Runs.apply(pd.to_numeric, errors='coerce')\n",
    "df['HS']=df.HS.apply(pd.to_numeric, errors='coerce')\n",
    "df['BF']=df.BF.apply(pd.to_numeric, errors='coerce')\n",
    "df['SR']=df.SR.apply(pd.to_numeric, errors='coerce')\n",
    "\n"
   ]
  },
  {
   "cell_type": "markdown",
   "metadata": {},
   "source": [
    "Once the conversion was done, I dropped off the players data who had batted less than 2 innings. "
   ]
  },
  {
   "cell_type": "code",
   "execution_count": 30,
   "metadata": {
    "hideCode": false,
    "hidePrompt": false
   },
   "outputs": [],
   "source": [
    "#drop the players with lesser than 1 innings. (Efficient ways of doing this)\n",
    "df = df[np.isfinite(df['Inns'])]\n",
    "df = df[df.Inns > 2]\n",
    "\n"
   ]
  },
  {
   "cell_type": "markdown",
   "metadata": {},
   "source": [
    "Finally, I sorted the dataset and ranked the players according to their rankings. "
   ]
  },
  {
   "cell_type": "code",
   "execution_count": 31,
   "metadata": {
    "hideCode": false,
    "hidePrompt": false
   },
   "outputs": [],
   "source": [
    "#Sort based on Average (Efficient ways of doing this)\n",
    "avg_based = df.sort_values(by='Ave', ascending=False)\n",
    "#reset and start indexing from 1\n",
    "avg_based = avg_based.reset_index(drop=True)\n",
    "avg_based.index += 1 \n"
   ]
  },
  {
   "cell_type": "markdown",
   "metadata": {
    "hideCode": false,
    "hidePrompt": false
   },
   "source": [
    "However, this study required me to calculate the rankings based on other factors. Referring to the earlier document, I need to calculate the e2 and e6 values.\n",
    "\n",
    "Where, e2 = (sumout + 2×sumno)/n and e6 = (sumout + f6×sumno)/n where f6 = 2.2 – 0.01×avno. \n",
    "\n",
    "This calculation could only be done if I had the sum of out scores, and sum of not out scores. And my earlier dataset did not contain any of this information. \n"
   ]
  },
  {
   "cell_type": "markdown",
   "metadata": {},
   "source": [
    "I therefore needed to get the individual scores each batsman scored during the tournament. And I needed the sum of total not out scores and sum of out scores. Again, I downloaded the dataset for the each batsman individual scores. I could have done it more efficiently, however, I repeated the process of getting the dataset from over ten tables. I made sure that the dataset contained scores of batsmen that had batted more than two innings as that was the requirement according to the earlier table. \n",
    "\n",
    "I dropped of unwanted columns from the datasets. "
   ]
  },
  {
   "cell_type": "code",
   "execution_count": 10,
   "metadata": {},
   "outputs": [
    {
     "data": {
      "text/html": [
       "<div>\n",
       "<style scoped>\n",
       "    .dataframe tbody tr th:only-of-type {\n",
       "        vertical-align: middle;\n",
       "    }\n",
       "\n",
       "    .dataframe tbody tr th {\n",
       "        vertical-align: top;\n",
       "    }\n",
       "\n",
       "    .dataframe thead th {\n",
       "        text-align: right;\n",
       "    }\n",
       "</style>\n",
       "<table border=\"1\" class=\"dataframe\">\n",
       "  <thead>\n",
       "    <tr style=\"text-align: right;\">\n",
       "      <th></th>\n",
       "      <th>Player</th>\n",
       "      <th>Runs</th>\n",
       "    </tr>\n",
       "  </thead>\n",
       "  <tbody>\n",
       "    <tr>\n",
       "      <th>1</th>\n",
       "      <td>AD Hales (ENG)</td>\n",
       "      <td>116*</td>\n",
       "    </tr>\n",
       "    <tr>\n",
       "      <th>2</th>\n",
       "      <td>Ahmed Shehzad (PAK)</td>\n",
       "      <td>111*</td>\n",
       "    </tr>\n",
       "    <tr>\n",
       "      <th>3</th>\n",
       "      <td>Umar Akmal (PAK)</td>\n",
       "      <td>94</td>\n",
       "    </tr>\n",
       "    <tr>\n",
       "      <th>4</th>\n",
       "      <td>DPMD Jayawardene (SL)</td>\n",
       "      <td>89</td>\n",
       "    </tr>\n",
       "    <tr>\n",
       "      <th>5</th>\n",
       "      <td>JP Duminy (SA)</td>\n",
       "      <td>86*</td>\n",
       "    </tr>\n",
       "    <tr>\n",
       "      <th>6</th>\n",
       "      <td>V Kohli (INDIA)</td>\n",
       "      <td>77</td>\n",
       "    </tr>\n",
       "    <tr>\n",
       "      <th>7</th>\n",
       "      <td>GJ Maxwell (AUS)</td>\n",
       "      <td>74</td>\n",
       "    </tr>\n",
       "    <tr>\n",
       "      <th>8</th>\n",
       "      <td>TLW Cooper (NL)</td>\n",
       "      <td>72*</td>\n",
       "    </tr>\n",
       "    <tr>\n",
       "      <th>9</th>\n",
       "      <td>V Kohli (INDIA)</td>\n",
       "      <td>72*</td>\n",
       "    </tr>\n",
       "    <tr>\n",
       "      <th>10</th>\n",
       "      <td>DR Smith (WI)</td>\n",
       "      <td>72</td>\n",
       "    </tr>\n",
       "  </tbody>\n",
       "</table>\n",
       "</div>"
      ],
      "text/plain": [
       "                   Player  Runs\n",
       "1          AD Hales (ENG)  116*\n",
       "2     Ahmed Shehzad (PAK)  111*\n",
       "3        Umar Akmal (PAK)    94\n",
       "4   DPMD Jayawardene (SL)    89\n",
       "5          JP Duminy (SA)   86*\n",
       "6         V Kohli (INDIA)    77\n",
       "7        GJ Maxwell (AUS)    74\n",
       "8         TLW Cooper (NL)   72*\n",
       "9         V Kohli (INDIA)   72*\n",
       "10          DR Smith (WI)    72"
      ]
     },
     "execution_count": 10,
     "metadata": {},
     "output_type": "execute_result"
    }
   ],
   "source": [
    "def fetch_data_from_url(url):\n",
    "    html = requests.get(url).content\n",
    "    df_list = pd.read_html(html)\n",
    "    df = df_list[2]\n",
    "    df.index += 1 \n",
    "    df.drop(df.columns[[2,3,4,5,6,7,8,9,10,11,12]],axis=1, inplace=True)\n",
    "    return df\n",
    "\n",
    "url_1= \"http://stats.espncricinfo.com/ci/engine/stats/index.html?class=3;filter=advanced;host=25;orderby=batting_average;season=2013%2F14;template=results;trophy=89;type=batting;view=innings\"\n",
    "df_1 = fetch_data_from_url(url_1)\n",
    "df_1.head(10)\n"
   ]
  },
  {
   "cell_type": "code",
   "execution_count": 32,
   "metadata": {
    "hideCode": false,
    "hidePrompt": false
   },
   "outputs": [],
   "source": [
    "\n",
    "\n",
    "\n",
    "url_1= \"http://stats.espncricinfo.com/ci/engine/stats/index.html?class=3;filter=advanced;host=25;orderby=batting_average;season=2013%2F14;template=results;trophy=89;type=batting;view=innings\"\n",
    "html_1 = requests.get(url_1).content\n",
    "df_list_1 = pd.read_html(html_1)\n",
    "df_1 = df_list_1[2]\n",
    "df_1.index += 1 \n",
    "df_1.drop(df_1.columns[[2,3,4,5,6,7,8,9,10,11,12]],axis=1, inplace=True)\n",
    "\n",
    "url_2= \"http://stats.espncricinfo.com/ci/engine/stats/index.html?class=3;filter=advanced;host=25;orderby=batting_average;page=2;season=2013%2F14;template=results;trophy=89;type=batting;view=innings\"\n",
    "html_2 = requests.get(url_2).content\n",
    "df_list_2 = pd.read_html(html_2)\n",
    "df_2 = df_list_2[2]\n",
    "df_2.index += 1 \n",
    "df_2.drop(df_2.columns[[2,3,4,5,6,7,8,9,10,11,12]],axis=1, inplace=True)\n",
    "\n",
    "url_3= \"http://stats.espncricinfo.com/ci/engine/stats/index.html?class=3;filter=advanced;host=25;orderby=batting_average;page=3;season=2013%2F14;template=results;trophy=89;type=batting;view=innings\"\n",
    "html_3 = requests.get(url_3).content\n",
    "df_list_3 = pd.read_html(html_3)\n",
    "df_3 = df_list_3[2]\n",
    "df_3.index += 1 \n",
    "df_3.drop(df_3.columns[[2,3,4,5,6,7,8,9,10,11,12]],axis=1, inplace=True)\n",
    "\n",
    "url_4= \"http://stats.espncricinfo.com/ci/engine/stats/index.html?class=3;filter=advanced;host=25;orderby=batting_average;page=4;season=2013%2F14;template=results;trophy=89;type=batting;view=innings\"\n",
    "html_4 = requests.get(url_4).content\n",
    "df_list_4 = pd.read_html(html_4)\n",
    "df_4 = df_list_4[2]\n",
    "df_4.index += 1\n",
    "df_4.drop(df_4.columns[[2,3,4,5,6,7,8,9,10,11,12]],axis=1, inplace=True)\n",
    "\n",
    "url_5= \"http://stats.espncricinfo.com/ci/engine/stats/index.html?class=3;filter=advanced;host=25;orderby=batting_average;page=5;season=2013%2F14;template=results;trophy=89;type=batting;view=innings\"\n",
    "html_5 = requests.get(url_5).content\n",
    "df_list_5 = pd.read_html(html_5)\n",
    "df_5 = df_list_5[2]\n",
    "df_5.index += 1 \n",
    "df_5.drop(df_5.columns[[2,3,4,5,6,7,8,9,10,11,12]],axis=1, inplace=True)\n",
    "\n",
    "url_6= \"http://stats.espncricinfo.com/ci/engine/stats/index.html?class=3;filter=advanced;host=25;orderby=batting_average;page=6;season=2013%2F14;template=results;trophy=89;type=batting;view=innings\"\n",
    "html_6 = requests.get(url_6).content\n",
    "df_list_6 = pd.read_html(html_6)\n",
    "df_6 = df_list_6[2]\n",
    "df_6.index += 1 \n",
    "df_6.drop(df_6.columns[[2,3,4,5,6,7,8,9,10,11,12]],axis=1, inplace=True)\n",
    "\n",
    "url_7= \"http://stats.espncricinfo.com/ci/engine/stats/index.html?class=3;filter=advanced;host=25;orderby=batting_average;page=7;season=2013%2F14;template=results;trophy=89;type=batting;view=innings\"\n",
    "html_7 = requests.get(url_7).content\n",
    "df_list_7 = pd.read_html(html_7)\n",
    "df_7 = df_list_7[2]\n",
    "df_7.index += 1\n",
    "df_7.drop(df_7.columns[[2,3,4,5,6,7,8,9,10,11,12]],axis=1, inplace=True)\n",
    "\n",
    "url_8= \"http://stats.espncricinfo.com/ci/engine/stats/index.html?class=3;filter=advanced;host=25;orderby=batting_average;page=8;season=2013%2F14;template=results;trophy=89;type=batting;view=innings\"\n",
    "html_8 = requests.get(url_8).content\n",
    "df_list_8 = pd.read_html(html_8)\n",
    "df_8 = df_list_8[2]\n",
    "df_8.index += 1 \n",
    "df_8.drop(df_8.columns[[2,3,4,5,6,7,8,9,10,11,12]],axis=1, inplace=True)\n",
    "\n",
    "url_9= \"http://stats.espncricinfo.com/ci/engine/stats/index.html?class=3;filter=advanced;host=25;orderby=batting_average;page=9;season=2013%2F14;template=results;trophy=89;type=batting;view=innings\"\n",
    "html_9 = requests.get(url_9).content\n",
    "df_list_9 = pd.read_html(html_9)\n",
    "df_9 = df_list_9[2]\n",
    "df_9.index += 1 \n",
    "df_9.drop(df_9.columns[[2,3,4,5,6,7,8,9,10,11,12]],axis=1, inplace=True)\n",
    "\n",
    "\n",
    "url_10=\"http://stats.espncricinfo.com/ci/engine/stats/index.html?class=3;filter=advanced;host=25;orderby=batting_average;page=10;season=2013%2F14;template=results;trophy=89;type=batting;view=innings\"\n",
    "html_10 = requests.get(url_10).content\n",
    "df_list_10 = pd.read_html(html_10)\n",
    "df_10 = df_list_10[2]\n",
    "df_10.index += 1 \n",
    "df_10.drop(df_10.columns[[2,3,4,5,6,7,8,9,10,11,12]],axis=1, inplace=True)\n"
   ]
  },
  {
   "cell_type": "markdown",
   "metadata": {},
   "source": [
    "Finally, I merged all of the tables into one dataframe. This merger took place based on the rows. I needed player with the same names to be merged in the same column. For this I grouped the merged dataframe by Player name and joined the as a column. This gave me the dataframe that had Players name in one column, but all of the scores were in the second column separated by commas. I then separated the scores separated by commas into other columns and renamed them to \n",
    "\n",
    "Player| Inns_1||Inns_2|....|Inns_7|"
   ]
  },
  {
   "cell_type": "code",
   "execution_count": 33,
   "metadata": {
    "hideCode": false,
    "hidePrompt": false
   },
   "outputs": [],
   "source": [
    "#merge all the dataframe together in a row\n",
    "frames = [df_1, df_2, df_3, df_4,df_5,df_6,df_7,df_8,df_9,df_10,]\n",
    "result = pd.concat(frames)\n",
    "#group by player \n",
    "result= result.groupby(['Player'])['Runs'].apply(', '.join).reset_index()\n",
    "result=pd.concat([result[['Player']], result['Runs'].str.split(', ', expand=True)], axis=1)\n",
    "result.columns= ['Player','Inns_1','Inns_2','Inns_3','Inns_4','Inns_5','Inns_6','Inns_7']\n"
   ]
  },
  {
   "cell_type": "markdown",
   "metadata": {},
   "source": [
    "I then dropped of any player that might have not played more than two innings. "
   ]
  },
  {
   "cell_type": "code",
   "execution_count": 34,
   "metadata": {
    "hideCode": false,
    "hidePrompt": false
   },
   "outputs": [],
   "source": [
    "#Drop rows with cols that have more more than two None\n",
    "more_than_two_inns=result.dropna(subset=['Inns_1','Inns_2','Inns_3','Inns_4','Inns_5','Inns_6','Inns_7'], thresh=3)"
   ]
  },
  {
   "cell_type": "markdown",
   "metadata": {},
   "source": [
    "I also replaced all the NAN values to blank. The Inns column could have (*) character meaning not-out scores, however, I was not able to convert them to integer because of the * sign. But replacing the NAN values also replaced all the * sign scores to blank. I now could calculate the out scores. "
   ]
  },
  {
   "cell_type": "code",
   "execution_count": 35,
   "metadata": {
    "hideCode": false,
    "hidePrompt": false
   },
   "outputs": [],
   "source": [
    "#replace the nan values with blank space\n",
    "more_than_two_inns = more_than_two_inns.replace(np.nan, '', regex=True)"
   ]
  },
  {
   "cell_type": "code",
   "execution_count": 66,
   "metadata": {
    "hideCode": false,
    "hidePrompt": false
   },
   "outputs": [],
   "source": [
    "out_scores= more_than_two_inns[:]"
   ]
  },
  {
   "cell_type": "code",
   "execution_count": 67,
   "metadata": {},
   "outputs": [
    {
     "data": {
      "text/html": [
       "<div>\n",
       "<style scoped>\n",
       "    .dataframe tbody tr th:only-of-type {\n",
       "        vertical-align: middle;\n",
       "    }\n",
       "\n",
       "    .dataframe tbody tr th {\n",
       "        vertical-align: top;\n",
       "    }\n",
       "\n",
       "    .dataframe thead th {\n",
       "        text-align: right;\n",
       "    }\n",
       "</style>\n",
       "<table border=\"1\" class=\"dataframe\">\n",
       "  <thead>\n",
       "    <tr style=\"text-align: right;\">\n",
       "      <th></th>\n",
       "      <th>Player</th>\n",
       "      <th>Inns_1</th>\n",
       "      <th>Inns_2</th>\n",
       "      <th>Inns_3</th>\n",
       "      <th>Inns_4</th>\n",
       "      <th>Inns_5</th>\n",
       "      <th>Inns_6</th>\n",
       "      <th>Inns_7</th>\n",
       "    </tr>\n",
       "  </thead>\n",
       "  <tbody>\n",
       "    <tr>\n",
       "      <th>0</th>\n",
       "      <td>AB de Villiers (SA)</td>\n",
       "      <td>69*</td>\n",
       "      <td>24</td>\n",
       "      <td>21</td>\n",
       "      <td>10</td>\n",
       "      <td>5</td>\n",
       "      <td></td>\n",
       "      <td></td>\n",
       "    </tr>\n",
       "    <tr>\n",
       "      <th>1</th>\n",
       "      <td>AD Hales (ENG)</td>\n",
       "      <td>116*</td>\n",
       "      <td>38</td>\n",
       "      <td>12</td>\n",
       "      <td></td>\n",
       "      <td></td>\n",
       "      <td></td>\n",
       "      <td></td>\n",
       "    </tr>\n",
       "  </tbody>\n",
       "</table>\n",
       "</div>"
      ],
      "text/plain": [
       "                Player Inns_1 Inns_2 Inns_3 Inns_4 Inns_5 Inns_6 Inns_7\n",
       "0  AB de Villiers (SA)    69*     24     21     10      5              \n",
       "1       AD Hales (ENG)   116*     38     12                            "
      ]
     },
     "execution_count": 67,
     "metadata": {},
     "output_type": "execute_result"
    }
   ],
   "source": [
    "more_than_two_inns.head(2)"
   ]
  },
  {
   "cell_type": "markdown",
   "metadata": {},
   "source": [
    "I copied my dataframe to a new dataframe for calculating the sum of out scores\n",
    "Finally, I changed all the Inns column to integer, and I was able to add the out scores of the individual batsmen. The Inns column could have (*) character meaning not-out scores, however, using errors='coerce' I was able to make an exception to these cases. And all the not-out scores were replaced to NAN. Now, I could easily calculate the sum of Out scores. "
   ]
  },
  {
   "cell_type": "code",
   "execution_count": 69,
   "metadata": {
    "hideCode": false,
    "hidePrompt": false
   },
   "outputs": [],
   "source": [
    "#Remove the Not-out scores (it has *)- I do that by converting the cols into integer whilst \n",
    "#ignoring the not-out scores\n",
    "out_scores['Inns_1']=out_scores.Inns_1.apply(pd.to_numeric, errors='coerce')\n",
    "out_scores['Inns_2']=out_scores.Inns_2.apply(pd.to_numeric, errors='coerce')\n",
    "out_scores['Inns_3']=out_scores.Inns_3.apply(pd.to_numeric, errors='coerce')\n",
    "out_scores['Inns_4']=out_scores.Inns_4.apply(pd.to_numeric, errors='coerce')\n",
    "out_scores['Inns_5']=out_scores.Inns_5.apply(pd.to_numeric, errors='coerce')\n",
    "out_scores['Inns_6']=out_scores.Inns_6.apply(pd.to_numeric, errors='coerce')\n",
    "out_scores['Inns_7']=out_scores.Inns_7.apply(pd.to_numeric, errors='coerce')\n",
    "\n",
    "\n",
    "\n",
    "\n"
   ]
  },
  {
   "cell_type": "code",
   "execution_count": 71,
   "metadata": {
    "hideCode": false,
    "hidePrompt": false
   },
   "outputs": [],
   "source": [
    "#Add all the out_scores\n",
    "out_scores['Total'] = out_scores.sum(axis=1)"
   ]
  },
  {
   "cell_type": "code",
   "execution_count": 72,
   "metadata": {},
   "outputs": [
    {
     "data": {
      "text/html": [
       "<div>\n",
       "<style scoped>\n",
       "    .dataframe tbody tr th:only-of-type {\n",
       "        vertical-align: middle;\n",
       "    }\n",
       "\n",
       "    .dataframe tbody tr th {\n",
       "        vertical-align: top;\n",
       "    }\n",
       "\n",
       "    .dataframe thead th {\n",
       "        text-align: right;\n",
       "    }\n",
       "</style>\n",
       "<table border=\"1\" class=\"dataframe\">\n",
       "  <thead>\n",
       "    <tr style=\"text-align: right;\">\n",
       "      <th></th>\n",
       "      <th>Player</th>\n",
       "      <th>Inns_1</th>\n",
       "      <th>Inns_2</th>\n",
       "      <th>Inns_3</th>\n",
       "      <th>Inns_4</th>\n",
       "      <th>Inns_5</th>\n",
       "      <th>Inns_6</th>\n",
       "      <th>Inns_7</th>\n",
       "      <th>Total</th>\n",
       "    </tr>\n",
       "  </thead>\n",
       "  <tbody>\n",
       "    <tr>\n",
       "      <th>0</th>\n",
       "      <td>AB de Villiers (SA)</td>\n",
       "      <td>NaN</td>\n",
       "      <td>24.0</td>\n",
       "      <td>21.0</td>\n",
       "      <td>10.0</td>\n",
       "      <td>5.0</td>\n",
       "      <td>NaN</td>\n",
       "      <td>NaN</td>\n",
       "      <td>60.0</td>\n",
       "    </tr>\n",
       "    <tr>\n",
       "      <th>1</th>\n",
       "      <td>AD Hales (ENG)</td>\n",
       "      <td>NaN</td>\n",
       "      <td>38.0</td>\n",
       "      <td>12.0</td>\n",
       "      <td>NaN</td>\n",
       "      <td>NaN</td>\n",
       "      <td>NaN</td>\n",
       "      <td>NaN</td>\n",
       "      <td>50.0</td>\n",
       "    </tr>\n",
       "    <tr>\n",
       "      <th>2</th>\n",
       "      <td>AD Mathews (SL)</td>\n",
       "      <td>43.0</td>\n",
       "      <td>40.0</td>\n",
       "      <td>NaN</td>\n",
       "      <td>6.0</td>\n",
       "      <td>NaN</td>\n",
       "      <td>NaN</td>\n",
       "      <td>NaN</td>\n",
       "      <td>89.0</td>\n",
       "    </tr>\n",
       "    <tr>\n",
       "      <th>3</th>\n",
       "      <td>AD Poynter (IRE)</td>\n",
       "      <td>57.0</td>\n",
       "      <td>23.0</td>\n",
       "      <td>4.0</td>\n",
       "      <td>NaN</td>\n",
       "      <td>NaN</td>\n",
       "      <td>NaN</td>\n",
       "      <td>NaN</td>\n",
       "      <td>84.0</td>\n",
       "    </tr>\n",
       "    <tr>\n",
       "      <th>5</th>\n",
       "      <td>AJ Finch (AUS)</td>\n",
       "      <td>71.0</td>\n",
       "      <td>65.0</td>\n",
       "      <td>16.0</td>\n",
       "      <td>6.0</td>\n",
       "      <td>NaN</td>\n",
       "      <td>NaN</td>\n",
       "      <td>NaN</td>\n",
       "      <td>158.0</td>\n",
       "    </tr>\n",
       "  </tbody>\n",
       "</table>\n",
       "</div>"
      ],
      "text/plain": [
       "                Player  Inns_1  Inns_2  Inns_3  Inns_4  Inns_5  Inns_6  \\\n",
       "0  AB de Villiers (SA)     NaN    24.0    21.0    10.0     5.0     NaN   \n",
       "1       AD Hales (ENG)     NaN    38.0    12.0     NaN     NaN     NaN   \n",
       "2      AD Mathews (SL)    43.0    40.0     NaN     6.0     NaN     NaN   \n",
       "3     AD Poynter (IRE)    57.0    23.0     4.0     NaN     NaN     NaN   \n",
       "5       AJ Finch (AUS)    71.0    65.0    16.0     6.0     NaN     NaN   \n",
       "\n",
       "   Inns_7  Total  \n",
       "0     NaN   60.0  \n",
       "1     NaN   50.0  \n",
       "2     NaN   89.0  \n",
       "3     NaN   84.0  \n",
       "5     NaN  158.0  "
      ]
     },
     "execution_count": 72,
     "metadata": {},
     "output_type": "execute_result"
    }
   ],
   "source": [
    "out_scores.head(5)"
   ]
  },
  {
   "cell_type": "code",
   "execution_count": 73,
   "metadata": {
    "hideCode": false,
    "hidePrompt": false
   },
   "outputs": [],
   "source": [
    "all_scores=more_than_two_inns[:]"
   ]
  },
  {
   "cell_type": "markdown",
   "metadata": {},
   "source": [
    "Again, I made a new dataframe to calculate the total runs scored by each batsman. I relaced the NAN values to blank and then stripped the Not out symbol * from the scores. I could then convert the columns to integer,and then added the total scores. "
   ]
  },
  {
   "cell_type": "code",
   "execution_count": 74,
   "metadata": {
    "hideCode": false,
    "hidePrompt": false
   },
   "outputs": [],
   "source": [
    "all_scores = all_scores.replace(np.nan, '', regex=True)"
   ]
  },
  {
   "cell_type": "code",
   "execution_count": 4,
   "metadata": {},
   "outputs": [
    {
     "ename": "NameError",
     "evalue": "name 'all_scores' is not defined",
     "output_type": "error",
     "traceback": [
      "\u001b[0;31m---------------------------------------------------------------------------\u001b[0m",
      "\u001b[0;31mNameError\u001b[0m                                 Traceback (most recent call last)",
      "\u001b[0;32m<ipython-input-4-4d07644c1830>\u001b[0m in \u001b[0;36m<module>\u001b[0;34m()\u001b[0m\n\u001b[0;32m----> 1\u001b[0;31m \u001b[0mall_scores\u001b[0m\u001b[0;34m.\u001b[0m\u001b[0mhead\u001b[0m\u001b[0;34m(\u001b[0m\u001b[0;36m10\u001b[0m\u001b[0;34m)\u001b[0m\u001b[0;34m\u001b[0m\u001b[0m\n\u001b[0m",
      "\u001b[0;31mNameError\u001b[0m: name 'all_scores' is not defined"
     ]
    }
   ],
   "source": [
    "all_scores.head(10)"
   ]
  },
  {
   "cell_type": "code",
   "execution_count": 75,
   "metadata": {
    "hideCode": false,
    "hidePrompt": false
   },
   "outputs": [],
   "source": [
    "all_scores['Inns_1'] = all_scores['Inns_1'].map(lambda x:x.rstrip('*'))\n",
    "all_scores['Inns_2'] = all_scores['Inns_2'].map(lambda x:x.rstrip('*'))\n",
    "all_scores['Inns_3'] = all_scores['Inns_3'].map(lambda x:x.rstrip('*'))\n",
    "all_scores['Inns_4'] = all_scores['Inns_4'].map(lambda x:x.rstrip('*'))\n",
    "all_scores['Inns_5'] = all_scores['Inns_5'].map(lambda x:x.rstrip('*'))\n",
    "all_scores['Inns_6'] = all_scores['Inns_6'].map(lambda x:x.rstrip('*'))\n",
    "all_scores['Inns_7'] = all_scores['Inns_7'].map(lambda x:x.rstrip('*'))\n"
   ]
  },
  {
   "cell_type": "code",
   "execution_count": 76,
   "metadata": {
    "hideCode": false,
    "hidePrompt": false
   },
   "outputs": [],
   "source": [
    "all_scores['Inns_1']= pd.to_numeric(all_scores.Inns_1).astype(float)\n",
    "all_scores['Inns_2']= pd.to_numeric(all_scores.Inns_2).astype(float)\n",
    "all_scores['Inns_3']= pd.to_numeric(all_scores.Inns_3).astype(float)\n",
    "all_scores['Inns_4']= pd.to_numeric(all_scores.Inns_4).astype(float)\n",
    "all_scores['Inns_5']= pd.to_numeric(all_scores.Inns_5).astype(float)\n",
    "all_scores['Inns_6']= pd.to_numeric(all_scores.Inns_6).astype(float)\n",
    "all_scores['Inns_7']= pd.to_numeric(all_scores.Inns_7).astype(float)\n",
    "\n"
   ]
  },
  {
   "cell_type": "code",
   "execution_count": 77,
   "metadata": {
    "hideCode": false,
    "hidePrompt": false
   },
   "outputs": [],
   "source": [
    "all_scores['Total_runs']= all_scores.iloc[:, 1:-1].sum(axis=1)"
   ]
  },
  {
   "cell_type": "code",
   "execution_count": 78,
   "metadata": {},
   "outputs": [
    {
     "data": {
      "text/html": [
       "<div>\n",
       "<style scoped>\n",
       "    .dataframe tbody tr th:only-of-type {\n",
       "        vertical-align: middle;\n",
       "    }\n",
       "\n",
       "    .dataframe tbody tr th {\n",
       "        vertical-align: top;\n",
       "    }\n",
       "\n",
       "    .dataframe thead th {\n",
       "        text-align: right;\n",
       "    }\n",
       "</style>\n",
       "<table border=\"1\" class=\"dataframe\">\n",
       "  <thead>\n",
       "    <tr style=\"text-align: right;\">\n",
       "      <th></th>\n",
       "      <th>Player</th>\n",
       "      <th>Inns_1</th>\n",
       "      <th>Inns_2</th>\n",
       "      <th>Inns_3</th>\n",
       "      <th>Inns_4</th>\n",
       "      <th>Inns_5</th>\n",
       "      <th>Inns_6</th>\n",
       "      <th>Inns_7</th>\n",
       "      <th>Total_runs</th>\n",
       "    </tr>\n",
       "  </thead>\n",
       "  <tbody>\n",
       "    <tr>\n",
       "      <th>0</th>\n",
       "      <td>AB de Villiers (SA)</td>\n",
       "      <td>69.0</td>\n",
       "      <td>24.0</td>\n",
       "      <td>21.0</td>\n",
       "      <td>10.0</td>\n",
       "      <td>5.0</td>\n",
       "      <td>NaN</td>\n",
       "      <td>NaN</td>\n",
       "      <td>129.0</td>\n",
       "    </tr>\n",
       "    <tr>\n",
       "      <th>1</th>\n",
       "      <td>AD Hales (ENG)</td>\n",
       "      <td>116.0</td>\n",
       "      <td>38.0</td>\n",
       "      <td>12.0</td>\n",
       "      <td>NaN</td>\n",
       "      <td>NaN</td>\n",
       "      <td>NaN</td>\n",
       "      <td>NaN</td>\n",
       "      <td>166.0</td>\n",
       "    </tr>\n",
       "  </tbody>\n",
       "</table>\n",
       "</div>"
      ],
      "text/plain": [
       "                Player  Inns_1  Inns_2  Inns_3  Inns_4  Inns_5  Inns_6  \\\n",
       "0  AB de Villiers (SA)    69.0    24.0    21.0    10.0     5.0     NaN   \n",
       "1       AD Hales (ENG)   116.0    38.0    12.0     NaN     NaN     NaN   \n",
       "\n",
       "   Inns_7  Total_runs  \n",
       "0     NaN       129.0  \n",
       "1     NaN       166.0  "
      ]
     },
     "execution_count": 78,
     "metadata": {},
     "output_type": "execute_result"
    }
   ],
   "source": [
    "all_scores.head(2)"
   ]
  },
  {
   "cell_type": "code",
   "execution_count": 79,
   "metadata": {
    "hideCode": false,
    "hidePrompt": false
   },
   "outputs": [],
   "source": [
    "all_scores= all_scores.replace(np.nan, '', regex=True)"
   ]
  },
  {
   "cell_type": "code",
   "execution_count": 80,
   "metadata": {},
   "outputs": [
    {
     "data": {
      "text/html": [
       "<div>\n",
       "<style scoped>\n",
       "    .dataframe tbody tr th:only-of-type {\n",
       "        vertical-align: middle;\n",
       "    }\n",
       "\n",
       "    .dataframe tbody tr th {\n",
       "        vertical-align: top;\n",
       "    }\n",
       "\n",
       "    .dataframe thead th {\n",
       "        text-align: right;\n",
       "    }\n",
       "</style>\n",
       "<table border=\"1\" class=\"dataframe\">\n",
       "  <thead>\n",
       "    <tr style=\"text-align: right;\">\n",
       "      <th></th>\n",
       "      <th>Player</th>\n",
       "      <th>Inns_1</th>\n",
       "      <th>Inns_2</th>\n",
       "      <th>Inns_3</th>\n",
       "      <th>Inns_4</th>\n",
       "      <th>Inns_5</th>\n",
       "      <th>Inns_6</th>\n",
       "      <th>Inns_7</th>\n",
       "      <th>Total_runs</th>\n",
       "    </tr>\n",
       "  </thead>\n",
       "  <tbody>\n",
       "    <tr>\n",
       "      <th>0</th>\n",
       "      <td>AB de Villiers (SA)</td>\n",
       "      <td>69.0</td>\n",
       "      <td>24.0</td>\n",
       "      <td>21.0</td>\n",
       "      <td>10</td>\n",
       "      <td>5</td>\n",
       "      <td></td>\n",
       "      <td></td>\n",
       "      <td>129.0</td>\n",
       "    </tr>\n",
       "    <tr>\n",
       "      <th>1</th>\n",
       "      <td>AD Hales (ENG)</td>\n",
       "      <td>116.0</td>\n",
       "      <td>38.0</td>\n",
       "      <td>12.0</td>\n",
       "      <td></td>\n",
       "      <td></td>\n",
       "      <td></td>\n",
       "      <td></td>\n",
       "      <td>166.0</td>\n",
       "    </tr>\n",
       "  </tbody>\n",
       "</table>\n",
       "</div>"
      ],
      "text/plain": [
       "                Player  Inns_1  Inns_2  Inns_3 Inns_4 Inns_5 Inns_6 Inns_7  \\\n",
       "0  AB de Villiers (SA)    69.0    24.0    21.0     10      5                 \n",
       "1       AD Hales (ENG)   116.0    38.0    12.0                               \n",
       "\n",
       "   Total_runs  \n",
       "0       129.0  \n",
       "1       166.0  "
      ]
     },
     "execution_count": 80,
     "metadata": {},
     "output_type": "execute_result"
    }
   ],
   "source": [
    "all_scores.head(2)"
   ]
  },
  {
   "cell_type": "code",
   "execution_count": 81,
   "metadata": {
    "hideCode": false,
    "hidePrompt": false
   },
   "outputs": [],
   "source": [
    "result_1 = pd.concat([out_scores, all_scores], axis=1, sort=False)"
   ]
  },
  {
   "cell_type": "code",
   "execution_count": 82,
   "metadata": {},
   "outputs": [],
   "source": [
    "result_1.columns= ['Player',\"\",\"\",\"\",\"\",\"\",\"\",\"\",'Sumout','Player_1',\"1\",\"2\",\"3\",\"4\",\"5\",\"6\",\"7\",\"Total Runs\"]"
   ]
  },
  {
   "cell_type": "code",
   "execution_count": 83,
   "metadata": {},
   "outputs": [],
   "source": [
    "result_1=result_1.drop(result_1.columns[[1,2,3,4,5,6,7,9]],axis=1)"
   ]
  },
  {
   "cell_type": "code",
   "execution_count": 84,
   "metadata": {},
   "outputs": [],
   "source": [
    "result_1= result_1[['Player', '1', '2', '3','4','5','6','7','Sumout','Total Runs']]"
   ]
  },
  {
   "cell_type": "code",
   "execution_count": 85,
   "metadata": {},
   "outputs": [
    {
     "data": {
      "text/html": [
       "<div>\n",
       "<style scoped>\n",
       "    .dataframe tbody tr th:only-of-type {\n",
       "        vertical-align: middle;\n",
       "    }\n",
       "\n",
       "    .dataframe tbody tr th {\n",
       "        vertical-align: top;\n",
       "    }\n",
       "\n",
       "    .dataframe thead th {\n",
       "        text-align: right;\n",
       "    }\n",
       "</style>\n",
       "<table border=\"1\" class=\"dataframe\">\n",
       "  <thead>\n",
       "    <tr style=\"text-align: right;\">\n",
       "      <th></th>\n",
       "      <th>Player</th>\n",
       "      <th>1</th>\n",
       "      <th>2</th>\n",
       "      <th>3</th>\n",
       "      <th>4</th>\n",
       "      <th>5</th>\n",
       "      <th>6</th>\n",
       "      <th>7</th>\n",
       "      <th>Sumout</th>\n",
       "      <th>Total Runs</th>\n",
       "    </tr>\n",
       "  </thead>\n",
       "  <tbody>\n",
       "    <tr>\n",
       "      <th>0</th>\n",
       "      <td>AB de Villiers (SA)</td>\n",
       "      <td>69.0</td>\n",
       "      <td>24.0</td>\n",
       "      <td>21.0</td>\n",
       "      <td>10</td>\n",
       "      <td>5</td>\n",
       "      <td></td>\n",
       "      <td></td>\n",
       "      <td>60.0</td>\n",
       "      <td>129.0</td>\n",
       "    </tr>\n",
       "    <tr>\n",
       "      <th>1</th>\n",
       "      <td>AD Hales (ENG)</td>\n",
       "      <td>116.0</td>\n",
       "      <td>38.0</td>\n",
       "      <td>12.0</td>\n",
       "      <td></td>\n",
       "      <td></td>\n",
       "      <td></td>\n",
       "      <td></td>\n",
       "      <td>50.0</td>\n",
       "      <td>166.0</td>\n",
       "    </tr>\n",
       "  </tbody>\n",
       "</table>\n",
       "</div>"
      ],
      "text/plain": [
       "                Player      1     2     3   4  5 6 7  Sumout  Total Runs\n",
       "0  AB de Villiers (SA)   69.0  24.0  21.0  10  5        60.0       129.0\n",
       "1       AD Hales (ENG)  116.0  38.0  12.0               50.0       166.0"
      ]
     },
     "execution_count": 85,
     "metadata": {},
     "output_type": "execute_result"
    }
   ],
   "source": [
    "result_1.head(2)"
   ]
  },
  {
   "cell_type": "markdown",
   "metadata": {},
   "source": [
    "Now to find the sum of Not out runs, I substracted the sum of out runs from the total runs. This gave me the column for sum for Not out runs. "
   ]
  },
  {
   "cell_type": "code",
   "execution_count": 86,
   "metadata": {
    "hideCode": false,
    "hidePrompt": false
   },
   "outputs": [],
   "source": [
    "#Finding the total Not-Out Runs by substracting out runs from Total runs\n",
    "result_1['Sumno']= result_1['Total Runs']-result_1['Sumout']"
   ]
  },
  {
   "cell_type": "markdown",
   "metadata": {},
   "source": [
    "I then merged this individual innings dataframe with my first dataframe according to players name. I was roughly able to check to see if all the batsmen had similar amount of runs from the first table and the second innings by innigs table. "
   ]
  },
  {
   "cell_type": "code",
   "execution_count": 87,
   "metadata": {},
   "outputs": [
    {
     "data": {
      "text/html": [
       "<div>\n",
       "<style scoped>\n",
       "    .dataframe tbody tr th:only-of-type {\n",
       "        vertical-align: middle;\n",
       "    }\n",
       "\n",
       "    .dataframe tbody tr th {\n",
       "        vertical-align: top;\n",
       "    }\n",
       "\n",
       "    .dataframe thead th {\n",
       "        text-align: right;\n",
       "    }\n",
       "</style>\n",
       "<table border=\"1\" class=\"dataframe\">\n",
       "  <thead>\n",
       "    <tr style=\"text-align: right;\">\n",
       "      <th></th>\n",
       "      <th>Player</th>\n",
       "      <th>1</th>\n",
       "      <th>2</th>\n",
       "      <th>3</th>\n",
       "      <th>4</th>\n",
       "      <th>5</th>\n",
       "      <th>6</th>\n",
       "      <th>7</th>\n",
       "      <th>Sumout</th>\n",
       "      <th>Total Runs</th>\n",
       "      <th>Sumno</th>\n",
       "    </tr>\n",
       "  </thead>\n",
       "  <tbody>\n",
       "    <tr>\n",
       "      <th>0</th>\n",
       "      <td>AB de Villiers (SA)</td>\n",
       "      <td>69.0</td>\n",
       "      <td>24.0</td>\n",
       "      <td>21.0</td>\n",
       "      <td>10</td>\n",
       "      <td>5</td>\n",
       "      <td></td>\n",
       "      <td></td>\n",
       "      <td>60.0</td>\n",
       "      <td>129.0</td>\n",
       "      <td>69.0</td>\n",
       "    </tr>\n",
       "    <tr>\n",
       "      <th>1</th>\n",
       "      <td>AD Hales (ENG)</td>\n",
       "      <td>116.0</td>\n",
       "      <td>38.0</td>\n",
       "      <td>12.0</td>\n",
       "      <td></td>\n",
       "      <td></td>\n",
       "      <td></td>\n",
       "      <td></td>\n",
       "      <td>50.0</td>\n",
       "      <td>166.0</td>\n",
       "      <td>116.0</td>\n",
       "    </tr>\n",
       "    <tr>\n",
       "      <th>2</th>\n",
       "      <td>AD Mathews (SL)</td>\n",
       "      <td>43.0</td>\n",
       "      <td>40.0</td>\n",
       "      <td>11.0</td>\n",
       "      <td>6</td>\n",
       "      <td></td>\n",
       "      <td></td>\n",
       "      <td></td>\n",
       "      <td>89.0</td>\n",
       "      <td>100.0</td>\n",
       "      <td>11.0</td>\n",
       "    </tr>\n",
       "    <tr>\n",
       "      <th>3</th>\n",
       "      <td>AD Poynter (IRE)</td>\n",
       "      <td>57.0</td>\n",
       "      <td>23.0</td>\n",
       "      <td>4.0</td>\n",
       "      <td></td>\n",
       "      <td></td>\n",
       "      <td></td>\n",
       "      <td></td>\n",
       "      <td>84.0</td>\n",
       "      <td>84.0</td>\n",
       "      <td>0.0</td>\n",
       "    </tr>\n",
       "    <tr>\n",
       "      <th>5</th>\n",
       "      <td>AJ Finch (AUS)</td>\n",
       "      <td>71.0</td>\n",
       "      <td>65.0</td>\n",
       "      <td>16.0</td>\n",
       "      <td>6</td>\n",
       "      <td></td>\n",
       "      <td></td>\n",
       "      <td></td>\n",
       "      <td>158.0</td>\n",
       "      <td>158.0</td>\n",
       "      <td>0.0</td>\n",
       "    </tr>\n",
       "  </tbody>\n",
       "</table>\n",
       "</div>"
      ],
      "text/plain": [
       "                Player      1     2     3   4  5 6 7  Sumout  Total Runs  \\\n",
       "0  AB de Villiers (SA)   69.0  24.0  21.0  10  5        60.0       129.0   \n",
       "1       AD Hales (ENG)  116.0  38.0  12.0               50.0       166.0   \n",
       "2      AD Mathews (SL)   43.0  40.0  11.0   6           89.0       100.0   \n",
       "3     AD Poynter (IRE)   57.0  23.0   4.0               84.0        84.0   \n",
       "5       AJ Finch (AUS)   71.0  65.0  16.0   6          158.0       158.0   \n",
       "\n",
       "   Sumno  \n",
       "0   69.0  \n",
       "1  116.0  \n",
       "2   11.0  \n",
       "3    0.0  \n",
       "5    0.0  "
      ]
     },
     "execution_count": 87,
     "metadata": {},
     "output_type": "execute_result"
    }
   ],
   "source": [
    "result_1.head(5)"
   ]
  },
  {
   "cell_type": "code",
   "execution_count": 103,
   "metadata": {
    "hideCode": false,
    "hidePrompt": false
   },
   "outputs": [],
   "source": [
    "#sort the initial dataframe alphabhetically\n",
    "df_main=df.sort_values('Player', ascending=True)"
   ]
  },
  {
   "cell_type": "code",
   "execution_count": 104,
   "metadata": {
    "hideCode": false,
    "hidePrompt": false
   },
   "outputs": [],
   "source": [
    "df_3 = pd.merge(df_main, result_1, on='Player', how='right')\n"
   ]
  },
  {
   "cell_type": "code",
   "execution_count": 105,
   "metadata": {},
   "outputs": [
    {
     "data": {
      "text/html": [
       "<div>\n",
       "<style scoped>\n",
       "    .dataframe tbody tr th:only-of-type {\n",
       "        vertical-align: middle;\n",
       "    }\n",
       "\n",
       "    .dataframe tbody tr th {\n",
       "        vertical-align: top;\n",
       "    }\n",
       "\n",
       "    .dataframe thead th {\n",
       "        text-align: right;\n",
       "    }\n",
       "</style>\n",
       "<table border=\"1\" class=\"dataframe\">\n",
       "  <thead>\n",
       "    <tr style=\"text-align: right;\">\n",
       "      <th></th>\n",
       "      <th>Player</th>\n",
       "      <th>Mat</th>\n",
       "      <th>Inns</th>\n",
       "      <th>NO</th>\n",
       "      <th>Runs</th>\n",
       "      <th>HS</th>\n",
       "      <th>Ave</th>\n",
       "      <th>BF</th>\n",
       "      <th>SR</th>\n",
       "      <th>1</th>\n",
       "      <th>2</th>\n",
       "      <th>3</th>\n",
       "      <th>4</th>\n",
       "      <th>5</th>\n",
       "      <th>6</th>\n",
       "      <th>7</th>\n",
       "      <th>Sumout</th>\n",
       "      <th>Total Runs</th>\n",
       "      <th>Sumno</th>\n",
       "    </tr>\n",
       "  </thead>\n",
       "  <tbody>\n",
       "    <tr>\n",
       "      <th>0</th>\n",
       "      <td>AB de Villiers (SA)</td>\n",
       "      <td>5</td>\n",
       "      <td>5.0</td>\n",
       "      <td>1.0</td>\n",
       "      <td>129.0</td>\n",
       "      <td>69.0</td>\n",
       "      <td>32.25</td>\n",
       "      <td>79.0</td>\n",
       "      <td>163.29</td>\n",
       "      <td>69.0</td>\n",
       "      <td>24.0</td>\n",
       "      <td>21.0</td>\n",
       "      <td>10</td>\n",
       "      <td>5</td>\n",
       "      <td></td>\n",
       "      <td></td>\n",
       "      <td>60.0</td>\n",
       "      <td>129.0</td>\n",
       "      <td>69.0</td>\n",
       "    </tr>\n",
       "    <tr>\n",
       "      <th>1</th>\n",
       "      <td>AD Hales (ENG)</td>\n",
       "      <td>4</td>\n",
       "      <td>4.0</td>\n",
       "      <td>1.0</td>\n",
       "      <td>166.0</td>\n",
       "      <td>116.0</td>\n",
       "      <td>55.33</td>\n",
       "      <td>105.0</td>\n",
       "      <td>158.09</td>\n",
       "      <td>116.0</td>\n",
       "      <td>38.0</td>\n",
       "      <td>12.0</td>\n",
       "      <td></td>\n",
       "      <td></td>\n",
       "      <td></td>\n",
       "      <td></td>\n",
       "      <td>50.0</td>\n",
       "      <td>166.0</td>\n",
       "      <td>116.0</td>\n",
       "    </tr>\n",
       "  </tbody>\n",
       "</table>\n",
       "</div>"
      ],
      "text/plain": [
       "                Player  Mat  Inns   NO   Runs     HS    Ave     BF      SR  \\\n",
       "0  AB de Villiers (SA)    5   5.0  1.0  129.0   69.0  32.25   79.0  163.29   \n",
       "1       AD Hales (ENG)    4   4.0  1.0  166.0  116.0  55.33  105.0  158.09   \n",
       "\n",
       "       1     2     3   4  5 6 7  Sumout  Total Runs  Sumno  \n",
       "0   69.0  24.0  21.0  10  5        60.0       129.0   69.0  \n",
       "1  116.0  38.0  12.0               50.0       166.0  116.0  "
      ]
     },
     "execution_count": 105,
     "metadata": {},
     "output_type": "execute_result"
    }
   ],
   "source": [
    "df_3.head(2)"
   ]
  },
  {
   "cell_type": "code",
   "execution_count": 106,
   "metadata": {},
   "outputs": [],
   "source": [
    "df_3.drop(df_3.columns[[1,4,5,7]],axis=1, inplace=True)"
   ]
  },
  {
   "cell_type": "code",
   "execution_count": 107,
   "metadata": {},
   "outputs": [
    {
     "data": {
      "text/html": [
       "<div>\n",
       "<style scoped>\n",
       "    .dataframe tbody tr th:only-of-type {\n",
       "        vertical-align: middle;\n",
       "    }\n",
       "\n",
       "    .dataframe tbody tr th {\n",
       "        vertical-align: top;\n",
       "    }\n",
       "\n",
       "    .dataframe thead th {\n",
       "        text-align: right;\n",
       "    }\n",
       "</style>\n",
       "<table border=\"1\" class=\"dataframe\">\n",
       "  <thead>\n",
       "    <tr style=\"text-align: right;\">\n",
       "      <th></th>\n",
       "      <th>Player</th>\n",
       "      <th>Inns</th>\n",
       "      <th>NO</th>\n",
       "      <th>Ave</th>\n",
       "      <th>SR</th>\n",
       "      <th>1</th>\n",
       "      <th>2</th>\n",
       "      <th>3</th>\n",
       "      <th>4</th>\n",
       "      <th>5</th>\n",
       "      <th>6</th>\n",
       "      <th>7</th>\n",
       "      <th>Sumout</th>\n",
       "      <th>Total Runs</th>\n",
       "      <th>Sumno</th>\n",
       "    </tr>\n",
       "  </thead>\n",
       "  <tbody>\n",
       "    <tr>\n",
       "      <th>0</th>\n",
       "      <td>AB de Villiers (SA)</td>\n",
       "      <td>5.0</td>\n",
       "      <td>1.0</td>\n",
       "      <td>32.25</td>\n",
       "      <td>163.29</td>\n",
       "      <td>69.0</td>\n",
       "      <td>24.0</td>\n",
       "      <td>21.0</td>\n",
       "      <td>10</td>\n",
       "      <td>5</td>\n",
       "      <td></td>\n",
       "      <td></td>\n",
       "      <td>60.0</td>\n",
       "      <td>129.0</td>\n",
       "      <td>69.0</td>\n",
       "    </tr>\n",
       "    <tr>\n",
       "      <th>1</th>\n",
       "      <td>AD Hales (ENG)</td>\n",
       "      <td>4.0</td>\n",
       "      <td>1.0</td>\n",
       "      <td>55.33</td>\n",
       "      <td>158.09</td>\n",
       "      <td>116.0</td>\n",
       "      <td>38.0</td>\n",
       "      <td>12.0</td>\n",
       "      <td></td>\n",
       "      <td></td>\n",
       "      <td></td>\n",
       "      <td></td>\n",
       "      <td>50.0</td>\n",
       "      <td>166.0</td>\n",
       "      <td>116.0</td>\n",
       "    </tr>\n",
       "  </tbody>\n",
       "</table>\n",
       "</div>"
      ],
      "text/plain": [
       "                Player  Inns   NO    Ave      SR      1     2     3   4  5 6  \\\n",
       "0  AB de Villiers (SA)   5.0  1.0  32.25  163.29   69.0  24.0  21.0  10  5     \n",
       "1       AD Hales (ENG)   4.0  1.0  55.33  158.09  116.0  38.0  12.0            \n",
       "\n",
       "  7  Sumout  Total Runs  Sumno  \n",
       "0      60.0       129.0   69.0  \n",
       "1      50.0       166.0  116.0  "
      ]
     },
     "execution_count": 107,
     "metadata": {},
     "output_type": "execute_result"
    }
   ],
   "source": [
    "df_3.head(2)"
   ]
  },
  {
   "cell_type": "code",
   "execution_count": 108,
   "metadata": {},
   "outputs": [],
   "source": [
    "#calculate e2\n",
    "df_3['e2']= (df_3.Sumout + 2*(df_3.Sumno))/df_3.Inns"
   ]
  },
  {
   "cell_type": "code",
   "execution_count": 109,
   "metadata": {},
   "outputs": [],
   "source": [
    "#calculate f6\n",
    "avno= (df_3.Sumno/df_3.NO)"
   ]
  },
  {
   "cell_type": "code",
   "execution_count": 110,
   "metadata": {},
   "outputs": [],
   "source": [
    "avno = avno.replace(np.nan, '0', regex=True)"
   ]
  },
  {
   "cell_type": "code",
   "execution_count": 111,
   "metadata": {},
   "outputs": [],
   "source": [
    "avno=avno.apply(pd.to_numeric, errors='coerce')"
   ]
  },
  {
   "cell_type": "code",
   "execution_count": 112,
   "metadata": {},
   "outputs": [],
   "source": [
    "f6=2.2-0.01*avno"
   ]
  },
  {
   "cell_type": "code",
   "execution_count": 113,
   "metadata": {},
   "outputs": [],
   "source": [
    "#calculate e6 = (sumout + f6×sumno)/n where f6 = 2.2 – 0.01×avno. \n",
    "df_3['e6']=(df_3.Sumout+f6*df_3.Sumno)/df_3.Inns"
   ]
  },
  {
   "cell_type": "code",
   "execution_count": 114,
   "metadata": {},
   "outputs": [],
   "source": [
    "#calculate e26\n",
    "df_3['e26']=(df_3.e2+df_3.e6)/2"
   ]
  },
  {
   "cell_type": "code",
   "execution_count": 115,
   "metadata": {},
   "outputs": [],
   "source": [
    "#SR average\n",
    "\n",
    "ASR=df.SR.sum(axis=0)/209"
   ]
  },
  {
   "cell_type": "code",
   "execution_count": 116,
   "metadata": {},
   "outputs": [
    {
     "data": {
      "text/html": [
       "<div>\n",
       "<style scoped>\n",
       "    .dataframe tbody tr th:only-of-type {\n",
       "        vertical-align: middle;\n",
       "    }\n",
       "\n",
       "    .dataframe tbody tr th {\n",
       "        vertical-align: top;\n",
       "    }\n",
       "\n",
       "    .dataframe thead th {\n",
       "        text-align: right;\n",
       "    }\n",
       "</style>\n",
       "<table border=\"1\" class=\"dataframe\">\n",
       "  <thead>\n",
       "    <tr style=\"text-align: right;\">\n",
       "      <th></th>\n",
       "      <th>Player</th>\n",
       "      <th>Inns</th>\n",
       "      <th>NO</th>\n",
       "      <th>Ave</th>\n",
       "      <th>SR</th>\n",
       "      <th>1</th>\n",
       "      <th>2</th>\n",
       "      <th>3</th>\n",
       "      <th>4</th>\n",
       "      <th>5</th>\n",
       "      <th>6</th>\n",
       "      <th>7</th>\n",
       "      <th>Sumout</th>\n",
       "      <th>Total Runs</th>\n",
       "      <th>Sumno</th>\n",
       "      <th>e2</th>\n",
       "      <th>e6</th>\n",
       "      <th>e26</th>\n",
       "    </tr>\n",
       "  </thead>\n",
       "  <tbody>\n",
       "    <tr>\n",
       "      <th>0</th>\n",
       "      <td>AB de Villiers (SA)</td>\n",
       "      <td>5.0</td>\n",
       "      <td>1.0</td>\n",
       "      <td>32.25</td>\n",
       "      <td>163.29</td>\n",
       "      <td>69.0</td>\n",
       "      <td>24.0</td>\n",
       "      <td>21.0</td>\n",
       "      <td>10</td>\n",
       "      <td>5</td>\n",
       "      <td></td>\n",
       "      <td></td>\n",
       "      <td>60.0</td>\n",
       "      <td>129.0</td>\n",
       "      <td>69.0</td>\n",
       "      <td>39.6</td>\n",
       "      <td>32.838</td>\n",
       "      <td>36.219</td>\n",
       "    </tr>\n",
       "    <tr>\n",
       "      <th>1</th>\n",
       "      <td>AD Hales (ENG)</td>\n",
       "      <td>4.0</td>\n",
       "      <td>1.0</td>\n",
       "      <td>55.33</td>\n",
       "      <td>158.09</td>\n",
       "      <td>116.0</td>\n",
       "      <td>38.0</td>\n",
       "      <td>12.0</td>\n",
       "      <td></td>\n",
       "      <td></td>\n",
       "      <td></td>\n",
       "      <td></td>\n",
       "      <td>50.0</td>\n",
       "      <td>166.0</td>\n",
       "      <td>116.0</td>\n",
       "      <td>70.5</td>\n",
       "      <td>42.660</td>\n",
       "      <td>56.580</td>\n",
       "    </tr>\n",
       "  </tbody>\n",
       "</table>\n",
       "</div>"
      ],
      "text/plain": [
       "                Player  Inns   NO    Ave      SR      1     2     3   4  5 6  \\\n",
       "0  AB de Villiers (SA)   5.0  1.0  32.25  163.29   69.0  24.0  21.0  10  5     \n",
       "1       AD Hales (ENG)   4.0  1.0  55.33  158.09  116.0  38.0  12.0            \n",
       "\n",
       "  7  Sumout  Total Runs  Sumno    e2      e6     e26  \n",
       "0      60.0       129.0   69.0  39.6  32.838  36.219  \n",
       "1      50.0       166.0  116.0  70.5  42.660  56.580  "
      ]
     },
     "execution_count": 116,
     "metadata": {},
     "output_type": "execute_result"
    }
   ],
   "source": [
    "df_3.head(2)"
   ]
  },
  {
   "cell_type": "code",
   "execution_count": 117,
   "metadata": {},
   "outputs": [],
   "source": [
    "#calculate BP wher BP26 = e26 ×RP = e26×(SR/124.0)0.5 \n",
    "\n",
    "df_3['BP26'] = df_3.e26*(df_3.SR/ASR)**0.5"
   ]
  },
  {
   "cell_type": "code",
   "execution_count": 146,
   "metadata": {},
   "outputs": [],
   "source": [
    "main_table=df_3[:]"
   ]
  },
  {
   "cell_type": "code",
   "execution_count": 147,
   "metadata": {},
   "outputs": [
    {
     "data": {
      "text/html": [
       "<div>\n",
       "<style scoped>\n",
       "    .dataframe tbody tr th:only-of-type {\n",
       "        vertical-align: middle;\n",
       "    }\n",
       "\n",
       "    .dataframe tbody tr th {\n",
       "        vertical-align: top;\n",
       "    }\n",
       "\n",
       "    .dataframe thead th {\n",
       "        text-align: right;\n",
       "    }\n",
       "</style>\n",
       "<table border=\"1\" class=\"dataframe\">\n",
       "  <thead>\n",
       "    <tr style=\"text-align: right;\">\n",
       "      <th></th>\n",
       "      <th>Player</th>\n",
       "      <th>Inns</th>\n",
       "      <th>NO</th>\n",
       "      <th>Ave</th>\n",
       "      <th>SR</th>\n",
       "      <th>1</th>\n",
       "      <th>2</th>\n",
       "      <th>3</th>\n",
       "      <th>4</th>\n",
       "      <th>5</th>\n",
       "      <th>6</th>\n",
       "      <th>7</th>\n",
       "      <th>Sumout</th>\n",
       "      <th>Total Runs</th>\n",
       "      <th>Sumno</th>\n",
       "      <th>e2</th>\n",
       "      <th>e6</th>\n",
       "      <th>e26</th>\n",
       "      <th>BP26</th>\n",
       "    </tr>\n",
       "  </thead>\n",
       "  <tbody>\n",
       "    <tr>\n",
       "      <th>0</th>\n",
       "      <td>AB de Villiers (SA)</td>\n",
       "      <td>5.0</td>\n",
       "      <td>1.0</td>\n",
       "      <td>32.25</td>\n",
       "      <td>163.29</td>\n",
       "      <td>69.0</td>\n",
       "      <td>24.0</td>\n",
       "      <td>21.0</td>\n",
       "      <td>10</td>\n",
       "      <td>5</td>\n",
       "      <td></td>\n",
       "      <td></td>\n",
       "      <td>60.0</td>\n",
       "      <td>129.0</td>\n",
       "      <td>69.0</td>\n",
       "      <td>39.6</td>\n",
       "      <td>32.838</td>\n",
       "      <td>36.219</td>\n",
       "      <td>59.195479</td>\n",
       "    </tr>\n",
       "    <tr>\n",
       "      <th>1</th>\n",
       "      <td>AD Hales (ENG)</td>\n",
       "      <td>4.0</td>\n",
       "      <td>1.0</td>\n",
       "      <td>55.33</td>\n",
       "      <td>158.09</td>\n",
       "      <td>116.0</td>\n",
       "      <td>38.0</td>\n",
       "      <td>12.0</td>\n",
       "      <td></td>\n",
       "      <td></td>\n",
       "      <td></td>\n",
       "      <td></td>\n",
       "      <td>50.0</td>\n",
       "      <td>166.0</td>\n",
       "      <td>116.0</td>\n",
       "      <td>70.5</td>\n",
       "      <td>42.660</td>\n",
       "      <td>56.580</td>\n",
       "      <td>90.988695</td>\n",
       "    </tr>\n",
       "  </tbody>\n",
       "</table>\n",
       "</div>"
      ],
      "text/plain": [
       "                Player  Inns   NO    Ave      SR      1     2     3   4  5 6  \\\n",
       "0  AB de Villiers (SA)   5.0  1.0  32.25  163.29   69.0  24.0  21.0  10  5     \n",
       "1       AD Hales (ENG)   4.0  1.0  55.33  158.09  116.0  38.0  12.0            \n",
       "\n",
       "  7  Sumout  Total Runs  Sumno    e2      e6     e26       BP26  \n",
       "0      60.0       129.0   69.0  39.6  32.838  36.219  59.195479  \n",
       "1      50.0       166.0  116.0  70.5  42.660  56.580  90.988695  "
      ]
     },
     "execution_count": 147,
     "metadata": {},
     "output_type": "execute_result"
    }
   ],
   "source": [
    "main_table.head(2)"
   ]
  },
  {
   "cell_type": "code",
   "execution_count": 148,
   "metadata": {},
   "outputs": [
    {
     "name": "stderr",
     "output_type": "stream",
     "text": [
      "/Library/Frameworks/Python.framework/Versions/3.6/lib/python3.6/site-packages/pandas/core/frame.py:3694: SettingWithCopyWarning: \n",
      "A value is trying to be set on a copy of a slice from a DataFrame\n",
      "\n",
      "See the caveats in the documentation: http://pandas.pydata.org/pandas-docs/stable/indexing.html#indexing-view-versus-copy\n",
      "  errors=errors)\n"
     ]
    }
   ],
   "source": [
    "#Sort based on BP26(Efficient ways of doing this)\n",
    "main_table.drop(main_table.columns[[4,5,6,7,8,9,10,11]],axis=1, inplace=True)\n",
    "main_table = main_table.sort_values(by='BP26', ascending=False)\n",
    "#reset and start indexing from 1\n",
    "main_table = main_table.reset_index(drop=True)\n",
    "\n",
    "main_table.index += 1 "
   ]
  },
  {
   "cell_type": "code",
   "execution_count": 149,
   "metadata": {},
   "outputs": [],
   "source": [
    "main_table.to_csv('batting_table.csv')\n",
    "df.to_csv('batting1.csv')\n",
    "result_1.to_csv('batting_sum.csv')\n",
    "result.to_csv('batting_with_not_out_symbol')\n"
   ]
  },
  {
   "cell_type": "code",
   "execution_count": 150,
   "metadata": {},
   "outputs": [],
   "source": [
    "final_table= main_table.head(50)"
   ]
  },
  {
   "cell_type": "code",
   "execution_count": 151,
   "metadata": {},
   "outputs": [],
   "source": [
    "\n",
    "final_table.to_csv('final_table.csv')"
   ]
  }
 ],
 "metadata": {
  "hide_code_all_hidden": false,
  "kernelspec": {
   "display_name": "Python 3",
   "language": "python",
   "name": "python3"
  },
  "language_info": {
   "codemirror_mode": {
    "name": "ipython",
    "version": 3
   },
   "file_extension": ".py",
   "mimetype": "text/x-python",
   "name": "python",
   "nbconvert_exporter": "python",
   "pygments_lexer": "ipython3",
   "version": "3.6.4"
  }
 },
 "nbformat": 4,
 "nbformat_minor": 2
}
