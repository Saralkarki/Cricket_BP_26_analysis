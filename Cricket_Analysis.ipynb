{
 "cells": [
  {
   "cell_type": "markdown",
   "metadata": {
    "hideCode": false,
    "hidePrompt": false
   },
   "source": [
    "Cricket Analysis"
   ]
  },
  {
   "cell_type": "markdown",
   "metadata": {},
   "source": [
    "This analysis is a replication of the research done by \" \". However, the dataset is different than the replicated research paper. Also, it looks at the batting rankings only. All of the data were obtained from ESPN Cricinfo.com.\n"
   ]
  },
  {
   "cell_type": "markdown",
   "metadata": {},
   "source": [
    "Firstly, the required libraries were imported."
   ]
  },
  {
   "cell_type": "code",
   "execution_count": 1,
   "metadata": {
    "hideCode": false,
    "hidePrompt": false
   },
   "outputs": [],
   "source": [
    "#Import required libraries\n",
    "import pandas as pd \n",
    "import requests\n",
    "import numpy as np\n",
    "from pandas.tools.plotting import table\n"
   ]
  },
  {
   "cell_type": "markdown",
   "metadata": {},
   "source": [
    "Importing the overall batting statistics for the 2013 T20 world cup. After importing the dataset , I have dropped the columns that I do not need for this analysis. "
   ]
  },
  {
   "cell_type": "code",
   "execution_count": 2,
   "metadata": {
    "hideCode": false,
    "hidePrompt": false
   },
   "outputs": [],
   "source": [
    "#import the data set\n",
    "\n",
    "def fetch_data_from_url(url, drop_columns,df_list_index):\n",
    "    html = requests.get(url).content\n",
    "    df_list = pd.read_html(html)\n",
    "    df = df_list[df_list_index]\n",
    "    df.index += 1 \n",
    "    df.drop(df.columns[drop_columns],axis=1, inplace=True)\n",
    "    return df\n",
    "\n",
    "url = 'http://stats.espncricinfo.com/world-t20/engine/records/averages/batting.html?id=8083;type=tournament'\n",
    "drop_columns= [9,10,11,12,13]\n",
    "df_list_index= 0\n",
    "df_1= fetch_data_from_url(url,drop_columns,df_list_index) "
   ]
  },
  {
   "cell_type": "code",
   "execution_count": 3,
   "metadata": {},
   "outputs": [
    {
     "data": {
      "text/plain": [
       "dtype('int64')"
      ]
     },
     "execution_count": 3,
     "metadata": {},
     "output_type": "execute_result"
    }
   ],
   "source": [
    "df_1['Mat'].dtype"
   ]
  },
  {
   "cell_type": "markdown",
   "metadata": {},
   "source": [
    "Since, all of the variables in the columns were of object type, I had to convert them to integer or float type to be able to make necessary calculation. However, I was unable to make the conversion in the High Score (HS) column, because of the * characters which represented the Not Out scores of batsmen. I stripped the character off from the data and only had numbers. "
   ]
  },
  {
   "cell_type": "code",
   "execution_count": 4,
   "metadata": {
    "hideCode": false,
    "hidePrompt": false
   },
   "outputs": [],
   "source": [
    "def strip_asterix_from_column(dataframe,colname,remove_char):\n",
    "    if dataframe[colname].dtype.kind == 'o':\n",
    "        dataframe[colname]=dataframe[colname].map(lambda x:x.rstrip(remove_char))\n",
    "\n",
    "def to_numeric (dataframe, column):\n",
    "    dataframe[column]=dataframe[column].apply(pd.to_numeric, errors='coerce')\n",
    "\n",
    "\n",
    "\n",
    "exclude_columns=['Player']\n",
    "\n",
    "for column in df_1.columns:\n",
    "    if not column in exclude_columns:\n",
    "        strip_asterix_from_column(df_1,column,'*')\n",
    "        to_numeric(df_1, column)\n",
    "       \n",
    "\n",
    "\n"
   ]
  },
  {
   "cell_type": "markdown",
   "metadata": {},
   "source": [
    "Once the dataset was stripped off the * character, I was able to make the transistion to integer. However, there were some '-' characters, I was able to add an exception using errors='coerce' so that the columns could be converted to interger. "
   ]
  },
  {
   "cell_type": "markdown",
   "metadata": {},
   "source": [
    "Once the conversion was done, I dropped off the players data who had batted less than 2 innings. "
   ]
  },
  {
   "cell_type": "code",
   "execution_count": 5,
   "metadata": {
    "hideCode": false,
    "hidePrompt": false
   },
   "outputs": [],
   "source": [
    "#drop the players with lesser than 1 innings. (Efficient ways of doing this)\n",
    "df_1 = df_1[df_1.Inns > 2]\n",
    "\n"
   ]
  },
  {
   "cell_type": "markdown",
   "metadata": {},
   "source": [
    "Finally, I sorted the dataset and ranked the players according to their rankings. "
   ]
  },
  {
   "cell_type": "code",
   "execution_count": 6,
   "metadata": {
    "hideCode": false,
    "hidePrompt": false
   },
   "outputs": [],
   "source": [
    "#Sort based on Average (Efficient ways of doing this)\n",
    "#reset and start indexing from 1\n",
    "def ranking_players (dataframe,colname):\n",
    "    ranking_df= dataframe.sort_values(by=colname,ascending=False)\n",
    "    dataframe.reset_index(drop=True)\n",
    "    dataframe.index += 1 \n",
    "    return ranking_df\n",
    "    \n",
    "\n",
    "\n",
    "\n"
   ]
  },
  {
   "cell_type": "code",
   "execution_count": 22,
   "metadata": {},
   "outputs": [],
   "source": [
    "Ave_rank= ranking_players(df_1,'Ave')\n",
    "\n",
    "# players = list(Ave_rank['Player'].map(lambda x:x.split(' (')[0]))\n",
    "# players.sort()\n",
    "# players"
   ]
  },
  {
   "cell_type": "code",
   "execution_count": 23,
   "metadata": {},
   "outputs": [],
   "source": [
    "# players_2 = list(more_than_two_inns['Player'].map(lambda x:x.split(' (')[0]))\n",
    "# players_2.sort()\n",
    "# players_2"
   ]
  },
  {
   "cell_type": "code",
   "execution_count": 24,
   "metadata": {},
   "outputs": [],
   "source": [
    "# def diff(first, second):\n",
    "#     second = set(second)\n",
    "#     return [item for item in first if item not in second]\n",
    "    \n",
    "# diff(players, players_2)"
   ]
  },
  {
   "cell_type": "markdown",
   "metadata": {
    "hideCode": false,
    "hidePrompt": false
   },
   "source": [
    "However, this study required me to calculate the rankings based on other factors. Referring to the earlier document, I need to calculate the e2 and e6 values.\n",
    "\n",
    "Where, e2 = (sumout + 2×sumno)/n and e6 = (sumout + f6×sumno)/n where f6 = 2.2 – 0.01×avno. \n",
    "\n",
    "This calculation could only be done if I had the sum of out scores, and sum of not out scores. And my earlier dataset did not contain any of this information. \n"
   ]
  },
  {
   "cell_type": "markdown",
   "metadata": {},
   "source": [
    "I therefore needed to get the individual scores each batsman scored during the tournament. And I needed the sum of total not out scores and sum of out scores. Again, I downloaded the dataset for the each batsman individual scores. I could have done it more efficiently, however, I repeated the process of getting the dataset from over ten tables. I made sure that the dataset contained scores of batsmen that had batted more than two innings as that was the requirement according to the earlier table. \n",
    "\n",
    "I dropped of unwanted columns from the datasets. "
   ]
  },
  {
   "cell_type": "code",
   "execution_count": 10,
   "metadata": {},
   "outputs": [],
   "source": [
    "def fetch_data_from_url(url):\n",
    "    html = requests.get(url).content\n",
    "    df_list = pd.read_html(html)\n",
    "    df = df_list[2]\n",
    "    df.index += 1 \n",
    "    df.drop(df.columns[[2,3,4,5,6,7,8,9,10,11,12]],axis=1, inplace=True)\n",
    "    return df\n",
    "\n",
    "urls = [\n",
    "    \"http://stats.espncricinfo.com/ci/engine/stats/index.html?class=3;filter=advanced;host=25;orderby=batting_average;season=2013%2F14;template=results;trophy=89;type=batting;view=innings\"\n",
    "    ,\"http://stats.espncricinfo.com/ci/engine/stats/index.html?class=3;filter=advanced;host=25;orderby=batting_average;page=2;season=2013%2F14;template=results;trophy=89;type=batting;view=innings\"\n",
    "    ,\"http://stats.espncricinfo.com/ci/engine/stats/index.html?class=3;filter=advanced;host=25;orderby=batting_average;page=3;season=2013%2F14;template=results;trophy=89;type=batting;view=innings\"\n",
    "    ,\"http://stats.espncricinfo.com/ci/engine/stats/index.html?class=3;filter=advanced;host=25;orderby=batting_average;page=4;season=2013%2F14;template=results;trophy=89;type=batting;view=innings\"\n",
    "    ,\"http://stats.espncricinfo.com/ci/engine/stats/index.html?class=3;filter=advanced;host=25;orderby=batting_average;page=5;season=2013%2F14;template=results;trophy=89;type=batting;view=innings\"\n",
    "    ,\"http://stats.espncricinfo.com/ci/engine/stats/index.html?class=3;filter=advanced;host=25;orderby=batting_average;page=6;season=2013%2F14;template=results;trophy=89;type=batting;view=innings\"\n",
    "    ,\"http://stats.espncricinfo.com/ci/engine/stats/index.html?class=3;filter=advanced;host=25;orderby=batting_average;page=7;season=2013%2F14;template=results;trophy=89;type=batting;view=innings\"\n",
    "    ,\"http://stats.espncricinfo.com/ci/engine/stats/index.html?class=3;filter=advanced;host=25;orderby=batting_average;page=8;season=2013%2F14;template=results;trophy=89;type=batting;view=innings\"\n",
    "    ,\"http://stats.espncricinfo.com/ci/engine/stats/index.html?class=3;filter=advanced;host=25;orderby=batting_average;page=9;season=2013%2F14;template=results;trophy=89;type=batting;view=innings\"\n",
    "    ,\"http://stats.espncricinfo.com/ci/engine/stats/index.html?class=3;filter=advanced;host=25;orderby=batting_average;page=10;season=2013%2F14;template=results;trophy=89;type=batting;view=innings\"\n",
    "]\n",
    "\n",
    "df = []\n",
    "\n",
    "for url in urls:\n",
    "    df.append(fetch_data_from_url(url))\n",
    "    "
   ]
  },
  {
   "cell_type": "code",
   "execution_count": null,
   "metadata": {},
   "outputs": [],
   "source": [
    "# for i in range(10):\n",
    "#      print (df[i].head(5))"
   ]
  },
  {
   "cell_type": "code",
   "execution_count": 11,
   "metadata": {},
   "outputs": [],
   "source": [
    "#merge all the dataframe together in a row\n",
    "\n",
    "result = pd.concat(df)"
   ]
  },
  {
   "cell_type": "markdown",
   "metadata": {},
   "source": [
    "Finally, I merged all of the tables into one dataframe. This merger took place based on the rows. I needed player with the same names to be merged in the same column. For this I grouped the merged dataframe by Player name and joined the as a column. This gave me the dataframe that had Players name in one column, but all of the scores were in the second column separated by commas. I then separated the scores separated by commas into other columns and renamed them to \n",
    "\n",
    "Player| Inns_1||Inns_2|....|Inns_7|"
   ]
  },
  {
   "cell_type": "code",
   "execution_count": 12,
   "metadata": {
    "hideCode": false,
    "hidePrompt": false
   },
   "outputs": [],
   "source": [
    "#group by player \n",
    "result= result.groupby(['Player'])['Runs'].apply(', '.join).reset_index()\n",
    "result=pd.concat([result[['Player']], result['Runs'].str.split(', ', expand=True)], axis=1)\n",
    "result.columns= ['Player','Inns_1','Inns_2','Inns_3','Inns_4','Inns_5','Inns_6','Inns_7']\n"
   ]
  },
  {
   "cell_type": "markdown",
   "metadata": {},
   "source": [
    "I then dropped of any player that might have not played more than two innings. "
   ]
  },
  {
   "cell_type": "code",
   "execution_count": 25,
   "metadata": {
    "hideCode": false,
    "hidePrompt": false
   },
   "outputs": [],
   "source": [
    "#Drop rows with cols that have more more than two None\n",
    "more_than_two_inns=result.dropna(subset=['Inns_1','Inns_2','Inns_3','Inns_4','Inns_5','Inns_6','Inns_7'], thresh=3)"
   ]
  },
  {
   "cell_type": "markdown",
   "metadata": {},
   "source": [
    "I also replaced all the NAN values to blank. The Inns column could have (*) character meaning not-out scores, however, I was not able to convert them to integer because of the * sign. But replacing the NAN values also replaced all the * sign scores to blank. I now could calculate the out scores. "
   ]
  },
  {
   "cell_type": "code",
   "execution_count": 26,
   "metadata": {
    "hideCode": false,
    "hidePrompt": false
   },
   "outputs": [],
   "source": [
    "#replace the nan values with blank space\n",
    "more_than_two_inns = more_than_two_inns.replace(np.nan, '', regex=True)"
   ]
  },
  {
   "cell_type": "code",
   "execution_count": 84,
   "metadata": {
    "hideCode": false,
    "hidePrompt": false
   },
   "outputs": [],
   "source": [
    "out_scores= more_than_two_inns[:]"
   ]
  },
  {
   "cell_type": "markdown",
   "metadata": {},
   "source": [
    "I copied my dataframe to a new dataframe for calculating the sum of out scores\n",
    "Finally, I changed all the Inns column to integer, and I was able to add the out scores of the individual batsmen. The Inns column could have (*) character meaning not-out scores, however, using errors='coerce' I was able to make an exception to these cases. And all the not-out scores were replaced to NAN. Now, I could easily calculate the sum of Out scores. "
   ]
  },
  {
   "cell_type": "code",
   "execution_count": 88,
   "metadata": {
    "hideCode": false,
    "hidePrompt": false
   },
   "outputs": [],
   "source": [
    "#Remove the Not-out scores (it has *)- I do that by converting the cols into integer whilst \n",
    "#ignoring the not-out scores\n",
    "\n",
    "for column in out_scores.columns:\n",
    "    if not column in exclude_columns:\n",
    "        strip_asterix_from_column(out_scores,column,'*')\n",
    "#         to_numeric(out_scores, column)\n",
    "        \n",
    "out_scores= out_scores.replace(np.nan, '', regex=True)        \n",
    "\n",
    "\n",
    "\n",
    "\n",
    "\n"
   ]
  },
  {
   "cell_type": "code",
   "execution_count": 89,
   "metadata": {
    "hideCode": false,
    "hidePrompt": false
   },
   "outputs": [],
   "source": [
    "#Add all the out_scores\n",
    "out_scores['Total'] = out_scores.sum(axis=1)"
   ]
  },
  {
   "cell_type": "code",
   "execution_count": 90,
   "metadata": {},
   "outputs": [
    {
     "data": {
      "text/html": [
       "<div>\n",
       "<style scoped>\n",
       "    .dataframe tbody tr th:only-of-type {\n",
       "        vertical-align: middle;\n",
       "    }\n",
       "\n",
       "    .dataframe tbody tr th {\n",
       "        vertical-align: top;\n",
       "    }\n",
       "\n",
       "    .dataframe thead th {\n",
       "        text-align: right;\n",
       "    }\n",
       "</style>\n",
       "<table border=\"1\" class=\"dataframe\">\n",
       "  <thead>\n",
       "    <tr style=\"text-align: right;\">\n",
       "      <th></th>\n",
       "      <th>Player</th>\n",
       "      <th>Inns_1</th>\n",
       "      <th>Inns_2</th>\n",
       "      <th>Inns_3</th>\n",
       "      <th>Inns_4</th>\n",
       "      <th>Inns_5</th>\n",
       "      <th>Inns_6</th>\n",
       "      <th>Inns_7</th>\n",
       "      <th>Total</th>\n",
       "    </tr>\n",
       "  </thead>\n",
       "  <tbody>\n",
       "    <tr>\n",
       "      <th>0</th>\n",
       "      <td>AB de Villiers (SA)</td>\n",
       "      <td>69*</td>\n",
       "      <td>24</td>\n",
       "      <td>21</td>\n",
       "      <td>10</td>\n",
       "      <td>5</td>\n",
       "      <td></td>\n",
       "      <td></td>\n",
       "      <td>AB de Villiers (SA)69*2421105</td>\n",
       "    </tr>\n",
       "    <tr>\n",
       "      <th>1</th>\n",
       "      <td>AD Hales (ENG)</td>\n",
       "      <td>116*</td>\n",
       "      <td>38</td>\n",
       "      <td>12</td>\n",
       "      <td></td>\n",
       "      <td></td>\n",
       "      <td></td>\n",
       "      <td></td>\n",
       "      <td>AD Hales (ENG)116*3812</td>\n",
       "    </tr>\n",
       "    <tr>\n",
       "      <th>2</th>\n",
       "      <td>AD Mathews (SL)</td>\n",
       "      <td>43</td>\n",
       "      <td>40</td>\n",
       "      <td>11*</td>\n",
       "      <td>6</td>\n",
       "      <td></td>\n",
       "      <td></td>\n",
       "      <td></td>\n",
       "      <td>AD Mathews (SL)434011*6</td>\n",
       "    </tr>\n",
       "    <tr>\n",
       "      <th>3</th>\n",
       "      <td>AD Poynter (IRE)</td>\n",
       "      <td>57</td>\n",
       "      <td>23</td>\n",
       "      <td>4</td>\n",
       "      <td></td>\n",
       "      <td></td>\n",
       "      <td></td>\n",
       "      <td></td>\n",
       "      <td>AD Poynter (IRE)57234</td>\n",
       "    </tr>\n",
       "    <tr>\n",
       "      <th>5</th>\n",
       "      <td>AJ Finch (AUS)</td>\n",
       "      <td>71</td>\n",
       "      <td>65</td>\n",
       "      <td>16</td>\n",
       "      <td>6</td>\n",
       "      <td></td>\n",
       "      <td></td>\n",
       "      <td></td>\n",
       "      <td>AJ Finch (AUS)7165166</td>\n",
       "    </tr>\n",
       "    <tr>\n",
       "      <th>7</th>\n",
       "      <td>AM Rahane (INDIA)</td>\n",
       "      <td>32</td>\n",
       "      <td>19</td>\n",
       "      <td>3</td>\n",
       "      <td></td>\n",
       "      <td></td>\n",
       "      <td></td>\n",
       "      <td></td>\n",
       "      <td>AM Rahane (INDIA)32193</td>\n",
       "    </tr>\n",
       "    <tr>\n",
       "      <th>10</th>\n",
       "      <td>Ahmed Shehzad (PAK)</td>\n",
       "      <td>111*</td>\n",
       "      <td>22</td>\n",
       "      <td>5</td>\n",
       "      <td></td>\n",
       "      <td></td>\n",
       "      <td></td>\n",
       "      <td></td>\n",
       "      <td>Ahmed Shehzad (PAK)111*225</td>\n",
       "    </tr>\n",
       "    <tr>\n",
       "      <th>14</th>\n",
       "      <td>Amjad Ali (UAE)</td>\n",
       "      <td>20</td>\n",
       "      <td>5</td>\n",
       "      <td>1</td>\n",
       "      <td></td>\n",
       "      <td></td>\n",
       "      <td></td>\n",
       "      <td></td>\n",
       "      <td>Amjad Ali (UAE)2051</td>\n",
       "    </tr>\n",
       "    <tr>\n",
       "      <th>15</th>\n",
       "      <td>Amjad Javed (UAE)</td>\n",
       "      <td>19</td>\n",
       "      <td>8</td>\n",
       "      <td>2</td>\n",
       "      <td></td>\n",
       "      <td></td>\n",
       "      <td></td>\n",
       "      <td></td>\n",
       "      <td>Amjad Javed (UAE)1982</td>\n",
       "    </tr>\n",
       "    <tr>\n",
       "      <th>16</th>\n",
       "      <td>Anamul Haque (BDESH)</td>\n",
       "      <td>44*</td>\n",
       "      <td>44</td>\n",
       "      <td>42</td>\n",
       "      <td>26</td>\n",
       "      <td>18</td>\n",
       "      <td>10</td>\n",
       "      <td></td>\n",
       "      <td>Anamul Haque (BDESH)44*4442261810</td>\n",
       "    </tr>\n",
       "  </tbody>\n",
       "</table>\n",
       "</div>"
      ],
      "text/plain": [
       "                  Player Inns_1 Inns_2 Inns_3 Inns_4 Inns_5 Inns_6 Inns_7  \\\n",
       "0    AB de Villiers (SA)    69*     24     21     10      5                 \n",
       "1         AD Hales (ENG)   116*     38     12                               \n",
       "2        AD Mathews (SL)     43     40    11*      6                        \n",
       "3       AD Poynter (IRE)     57     23      4                               \n",
       "5         AJ Finch (AUS)     71     65     16      6                        \n",
       "7      AM Rahane (INDIA)     32     19      3                               \n",
       "10   Ahmed Shehzad (PAK)   111*     22      5                               \n",
       "14       Amjad Ali (UAE)     20      5      1                               \n",
       "15     Amjad Javed (UAE)     19      8      2                               \n",
       "16  Anamul Haque (BDESH)    44*     44     42     26     18     10          \n",
       "\n",
       "                                Total  \n",
       "0       AB de Villiers (SA)69*2421105  \n",
       "1              AD Hales (ENG)116*3812  \n",
       "2             AD Mathews (SL)434011*6  \n",
       "3               AD Poynter (IRE)57234  \n",
       "5               AJ Finch (AUS)7165166  \n",
       "7              AM Rahane (INDIA)32193  \n",
       "10         Ahmed Shehzad (PAK)111*225  \n",
       "14                Amjad Ali (UAE)2051  \n",
       "15              Amjad Javed (UAE)1982  \n",
       "16  Anamul Haque (BDESH)44*4442261810  "
      ]
     },
     "execution_count": 90,
     "metadata": {},
     "output_type": "execute_result"
    }
   ],
   "source": [
    "out_scores.head(10)"
   ]
  },
  {
   "cell_type": "code",
   "execution_count": 79,
   "metadata": {
    "hideCode": false,
    "hidePrompt": false
   },
   "outputs": [],
   "source": [
    "all_scores=more_than_two_inns[:]"
   ]
  },
  {
   "cell_type": "markdown",
   "metadata": {},
   "source": [
    "Again, I made a new dataframe to calculate the total runs scored by each batsman. I relaced the NAN values to blank and then stripped the Not out symbol * from the scores. I could then convert the columns to integer,and then added the total scores. "
   ]
  },
  {
   "cell_type": "code",
   "execution_count": 80,
   "metadata": {
    "hideCode": false,
    "hidePrompt": false
   },
   "outputs": [],
   "source": [
    "all_scores = all_scores.replace(np.nan, '', regex=True)"
   ]
  },
  {
   "cell_type": "code",
   "execution_count": 83,
   "metadata": {},
   "outputs": [
    {
     "data": {
      "text/html": [
       "<div>\n",
       "<style scoped>\n",
       "    .dataframe tbody tr th:only-of-type {\n",
       "        vertical-align: middle;\n",
       "    }\n",
       "\n",
       "    .dataframe tbody tr th {\n",
       "        vertical-align: top;\n",
       "    }\n",
       "\n",
       "    .dataframe thead th {\n",
       "        text-align: right;\n",
       "    }\n",
       "</style>\n",
       "<table border=\"1\" class=\"dataframe\">\n",
       "  <thead>\n",
       "    <tr style=\"text-align: right;\">\n",
       "      <th></th>\n",
       "      <th>Player</th>\n",
       "      <th>Inns_1</th>\n",
       "      <th>Inns_2</th>\n",
       "      <th>Inns_3</th>\n",
       "      <th>Inns_4</th>\n",
       "      <th>Inns_5</th>\n",
       "      <th>Inns_6</th>\n",
       "      <th>Inns_7</th>\n",
       "    </tr>\n",
       "  </thead>\n",
       "  <tbody>\n",
       "    <tr>\n",
       "      <th>0</th>\n",
       "      <td>AB de Villiers (SA)</td>\n",
       "      <td>69*</td>\n",
       "      <td>24</td>\n",
       "      <td>21</td>\n",
       "      <td>10</td>\n",
       "      <td>5</td>\n",
       "      <td></td>\n",
       "      <td></td>\n",
       "    </tr>\n",
       "    <tr>\n",
       "      <th>1</th>\n",
       "      <td>AD Hales (ENG)</td>\n",
       "      <td>116*</td>\n",
       "      <td>38</td>\n",
       "      <td>12</td>\n",
       "      <td></td>\n",
       "      <td></td>\n",
       "      <td></td>\n",
       "      <td></td>\n",
       "    </tr>\n",
       "    <tr>\n",
       "      <th>2</th>\n",
       "      <td>AD Mathews (SL)</td>\n",
       "      <td>43</td>\n",
       "      <td>40</td>\n",
       "      <td>11*</td>\n",
       "      <td>6</td>\n",
       "      <td></td>\n",
       "      <td></td>\n",
       "      <td></td>\n",
       "    </tr>\n",
       "    <tr>\n",
       "      <th>3</th>\n",
       "      <td>AD Poynter (IRE)</td>\n",
       "      <td>57</td>\n",
       "      <td>23</td>\n",
       "      <td>4</td>\n",
       "      <td></td>\n",
       "      <td></td>\n",
       "      <td></td>\n",
       "      <td></td>\n",
       "    </tr>\n",
       "    <tr>\n",
       "      <th>5</th>\n",
       "      <td>AJ Finch (AUS)</td>\n",
       "      <td>71</td>\n",
       "      <td>65</td>\n",
       "      <td>16</td>\n",
       "      <td>6</td>\n",
       "      <td></td>\n",
       "      <td></td>\n",
       "      <td></td>\n",
       "    </tr>\n",
       "    <tr>\n",
       "      <th>7</th>\n",
       "      <td>AM Rahane (INDIA)</td>\n",
       "      <td>32</td>\n",
       "      <td>19</td>\n",
       "      <td>3</td>\n",
       "      <td></td>\n",
       "      <td></td>\n",
       "      <td></td>\n",
       "      <td></td>\n",
       "    </tr>\n",
       "    <tr>\n",
       "      <th>10</th>\n",
       "      <td>Ahmed Shehzad (PAK)</td>\n",
       "      <td>111*</td>\n",
       "      <td>22</td>\n",
       "      <td>5</td>\n",
       "      <td></td>\n",
       "      <td></td>\n",
       "      <td></td>\n",
       "      <td></td>\n",
       "    </tr>\n",
       "    <tr>\n",
       "      <th>14</th>\n",
       "      <td>Amjad Ali (UAE)</td>\n",
       "      <td>20</td>\n",
       "      <td>5</td>\n",
       "      <td>1</td>\n",
       "      <td></td>\n",
       "      <td></td>\n",
       "      <td></td>\n",
       "      <td></td>\n",
       "    </tr>\n",
       "    <tr>\n",
       "      <th>15</th>\n",
       "      <td>Amjad Javed (UAE)</td>\n",
       "      <td>19</td>\n",
       "      <td>8</td>\n",
       "      <td>2</td>\n",
       "      <td></td>\n",
       "      <td></td>\n",
       "      <td></td>\n",
       "      <td></td>\n",
       "    </tr>\n",
       "    <tr>\n",
       "      <th>16</th>\n",
       "      <td>Anamul Haque (BDESH)</td>\n",
       "      <td>44*</td>\n",
       "      <td>44</td>\n",
       "      <td>42</td>\n",
       "      <td>26</td>\n",
       "      <td>18</td>\n",
       "      <td>10</td>\n",
       "      <td></td>\n",
       "    </tr>\n",
       "  </tbody>\n",
       "</table>\n",
       "</div>"
      ],
      "text/plain": [
       "                  Player Inns_1 Inns_2 Inns_3 Inns_4 Inns_5 Inns_6 Inns_7\n",
       "0    AB de Villiers (SA)    69*     24     21     10      5              \n",
       "1         AD Hales (ENG)   116*     38     12                            \n",
       "2        AD Mathews (SL)     43     40    11*      6                     \n",
       "3       AD Poynter (IRE)     57     23      4                            \n",
       "5         AJ Finch (AUS)     71     65     16      6                     \n",
       "7      AM Rahane (INDIA)     32     19      3                            \n",
       "10   Ahmed Shehzad (PAK)   111*     22      5                            \n",
       "14       Amjad Ali (UAE)     20      5      1                            \n",
       "15     Amjad Javed (UAE)     19      8      2                            \n",
       "16  Anamul Haque (BDESH)    44*     44     42     26     18     10       "
      ]
     },
     "execution_count": 83,
     "metadata": {},
     "output_type": "execute_result"
    }
   ],
   "source": [
    "all_scores.head(10)"
   ]
  },
  {
   "cell_type": "code",
   "execution_count": 82,
   "metadata": {
    "hideCode": false,
    "hidePrompt": false
   },
   "outputs": [],
   "source": [
    "# for column in all_scores.columns:\n",
    "#     strip_asterix_from_column(all_scores,column,'*')\n",
    "# #     to_numeric(all_scores, column)\n",
    "        \n",
    "# all_scores['Inns_1'] = all_scores['Inns_1'].map(lambda x:x.rstrip('*'))\n",
    "# all_scores['Inns_2'] = all_scores['Inns_2'].map(lambda x:x.rstrip('*'))\n",
    "# all_scores['Inns_3'] = all_scores['Inns_3'].map(lambda x:x.rstrip('*'))\n",
    "# all_scores['Inns_4'] = all_scores['Inns_4'].map(lambda x:x.rstrip('*'))\n",
    "# all_scores['Inns_5'] = all_scores['Inns_5'].map(lambda x:x.rstrip('*'))\n",
    "# all_scores['Inns_6'] = all_scores['Inns_6'].map(lambda x:x.rstrip('*'))\n",
    "# all_scores['Inns_7'] = all_scores['Inns_7'].map(lambda x:x.rstrip('*'))\n"
   ]
  },
  {
   "cell_type": "code",
   "execution_count": null,
   "metadata": {
    "hideCode": false,
    "hidePrompt": false
   },
   "outputs": [],
   "source": [
    "all_scores['Inns_1']= pd.to_numeric(all_scores.Inns_1).astype(float)\n",
    "all_scores['Inns_2']= pd.to_numeric(all_scores.Inns_2).astype(float)\n",
    "all_scores['Inns_3']= pd.to_numeric(all_scores.Inns_3).astype(float)\n",
    "all_scores['Inns_4']= pd.to_numeric(all_scores.Inns_4).astype(float)\n",
    "all_scores['Inns_5']= pd.to_numeric(all_scores.Inns_5).astype(float)\n",
    "all_scores['Inns_6']= pd.to_numeric(all_scores.Inns_6).astype(float)\n",
    "all_scores['Inns_7']= pd.to_numeric(all_scores.Inns_7).astype(float)\n",
    "\n"
   ]
  },
  {
   "cell_type": "code",
   "execution_count": null,
   "metadata": {
    "hideCode": false,
    "hidePrompt": false
   },
   "outputs": [],
   "source": [
    "all_scores['Total_runs']= all_scores.iloc[:, 1:-1].sum(axis=1)"
   ]
  },
  {
   "cell_type": "code",
   "execution_count": 68,
   "metadata": {},
   "outputs": [
    {
     "data": {
      "text/html": [
       "<div>\n",
       "<style scoped>\n",
       "    .dataframe tbody tr th:only-of-type {\n",
       "        vertical-align: middle;\n",
       "    }\n",
       "\n",
       "    .dataframe tbody tr th {\n",
       "        vertical-align: top;\n",
       "    }\n",
       "\n",
       "    .dataframe thead th {\n",
       "        text-align: right;\n",
       "    }\n",
       "</style>\n",
       "<table border=\"1\" class=\"dataframe\">\n",
       "  <thead>\n",
       "    <tr style=\"text-align: right;\">\n",
       "      <th></th>\n",
       "      <th>Player</th>\n",
       "      <th>Inns_1</th>\n",
       "      <th>Inns_2</th>\n",
       "      <th>Inns_3</th>\n",
       "      <th>Inns_4</th>\n",
       "      <th>Inns_5</th>\n",
       "      <th>Inns_6</th>\n",
       "      <th>Inns_7</th>\n",
       "    </tr>\n",
       "  </thead>\n",
       "  <tbody>\n",
       "    <tr>\n",
       "      <th>0</th>\n",
       "      <td>AB de Villiers (SA)</td>\n",
       "      <td>69*</td>\n",
       "      <td>24</td>\n",
       "      <td>21</td>\n",
       "      <td>10</td>\n",
       "      <td>5</td>\n",
       "      <td></td>\n",
       "      <td></td>\n",
       "    </tr>\n",
       "    <tr>\n",
       "      <th>1</th>\n",
       "      <td>AD Hales (ENG)</td>\n",
       "      <td>116*</td>\n",
       "      <td>38</td>\n",
       "      <td>12</td>\n",
       "      <td></td>\n",
       "      <td></td>\n",
       "      <td></td>\n",
       "      <td></td>\n",
       "    </tr>\n",
       "  </tbody>\n",
       "</table>\n",
       "</div>"
      ],
      "text/plain": [
       "                Player Inns_1 Inns_2 Inns_3 Inns_4 Inns_5 Inns_6 Inns_7\n",
       "0  AB de Villiers (SA)    69*     24     21     10      5              \n",
       "1       AD Hales (ENG)   116*     38     12                            "
      ]
     },
     "execution_count": 68,
     "metadata": {},
     "output_type": "execute_result"
    }
   ],
   "source": [
    "all_scores.head(2)"
   ]
  },
  {
   "cell_type": "code",
   "execution_count": null,
   "metadata": {
    "hideCode": false,
    "hidePrompt": false
   },
   "outputs": [],
   "source": [
    "all_scores= all_scores.replace(np.nan, '', regex=True)"
   ]
  },
  {
   "cell_type": "code",
   "execution_count": null,
   "metadata": {},
   "outputs": [],
   "source": [
    "all_scores.head(2)"
   ]
  },
  {
   "cell_type": "code",
   "execution_count": null,
   "metadata": {
    "hideCode": false,
    "hidePrompt": false
   },
   "outputs": [],
   "source": [
    "result_1 = pd.concat([out_scores, all_scores], axis=1, sort=False)"
   ]
  },
  {
   "cell_type": "code",
   "execution_count": null,
   "metadata": {},
   "outputs": [],
   "source": [
    "result_1.columns= ['Player',\"\",\"\",\"\",\"\",\"\",\"\",\"\",'Sumout','Player_1',\"1\",\"2\",\"3\",\"4\",\"5\",\"6\",\"7\",\"Total Runs\"]"
   ]
  },
  {
   "cell_type": "code",
   "execution_count": null,
   "metadata": {},
   "outputs": [],
   "source": [
    "result_1=result_1.drop(result_1.columns[[1,2,3,4,5,6,7,9]],axis=1)"
   ]
  },
  {
   "cell_type": "code",
   "execution_count": null,
   "metadata": {},
   "outputs": [],
   "source": [
    "result_1= result_1[['Player', '1', '2', '3','4','5','6','7','Sumout','Total Runs']]"
   ]
  },
  {
   "cell_type": "code",
   "execution_count": null,
   "metadata": {},
   "outputs": [],
   "source": [
    "result_1.head(2)"
   ]
  },
  {
   "cell_type": "markdown",
   "metadata": {},
   "source": [
    "Now to find the sum of Not out runs, I substracted the sum of out runs from the total runs. This gave me the column for sum for Not out runs. "
   ]
  },
  {
   "cell_type": "code",
   "execution_count": null,
   "metadata": {
    "hideCode": false,
    "hidePrompt": false
   },
   "outputs": [],
   "source": [
    "#Finding the total Not-Out Runs by substracting out runs from Total runs\n",
    "result_1['Sumno']= result_1['Total Runs']-result_1['Sumout']"
   ]
  },
  {
   "cell_type": "markdown",
   "metadata": {},
   "source": [
    "I then merged this individual innings dataframe with my first dataframe according to players name. I was roughly able to check to see if all the batsmen had similar amount of runs from the first table and the second innings by innigs table. "
   ]
  },
  {
   "cell_type": "code",
   "execution_count": null,
   "metadata": {},
   "outputs": [],
   "source": [
    "result_1.head(5)"
   ]
  },
  {
   "cell_type": "code",
   "execution_count": null,
   "metadata": {
    "hideCode": false,
    "hidePrompt": false
   },
   "outputs": [],
   "source": [
    "#sort the initial dataframe alphabhetically\n",
    "df_main=df.sort_values('Player', ascending=True)"
   ]
  },
  {
   "cell_type": "code",
   "execution_count": null,
   "metadata": {
    "hideCode": false,
    "hidePrompt": false
   },
   "outputs": [],
   "source": [
    "df_3 = pd.merge(df_main, result_1, on='Player', how='right')\n"
   ]
  },
  {
   "cell_type": "code",
   "execution_count": null,
   "metadata": {},
   "outputs": [],
   "source": [
    "df_3.head(2)"
   ]
  },
  {
   "cell_type": "code",
   "execution_count": null,
   "metadata": {},
   "outputs": [],
   "source": [
    "df_3.drop(df_3.columns[[1,4,5,7]],axis=1, inplace=True)"
   ]
  },
  {
   "cell_type": "code",
   "execution_count": null,
   "metadata": {},
   "outputs": [],
   "source": [
    "df_3.head(2)"
   ]
  },
  {
   "cell_type": "code",
   "execution_count": null,
   "metadata": {},
   "outputs": [],
   "source": [
    "#calculate e2\n",
    "df_3['e2']= (df_3.Sumout + 2*(df_3.Sumno))/df_3.Inns"
   ]
  },
  {
   "cell_type": "code",
   "execution_count": null,
   "metadata": {},
   "outputs": [],
   "source": [
    "#calculate f6\n",
    "avno= (df_3.Sumno/df_3.NO)"
   ]
  },
  {
   "cell_type": "code",
   "execution_count": null,
   "metadata": {},
   "outputs": [],
   "source": [
    "avno = avno.replace(np.nan, '0', regex=True)"
   ]
  },
  {
   "cell_type": "code",
   "execution_count": null,
   "metadata": {},
   "outputs": [],
   "source": [
    "avno=avno.apply(pd.to_numeric, errors='coerce')"
   ]
  },
  {
   "cell_type": "code",
   "execution_count": null,
   "metadata": {},
   "outputs": [],
   "source": [
    "f6=2.2-0.01*avno"
   ]
  },
  {
   "cell_type": "code",
   "execution_count": null,
   "metadata": {},
   "outputs": [],
   "source": [
    "#calculate e6 = (sumout + f6×sumno)/n where f6 = 2.2 – 0.01×avno. \n",
    "df_3['e6']=(df_3.Sumout+f6*df_3.Sumno)/df_3.Inns"
   ]
  },
  {
   "cell_type": "code",
   "execution_count": null,
   "metadata": {},
   "outputs": [],
   "source": [
    "#calculate e26\n",
    "df_3['e26']=(df_3.e2+df_3.e6)/2"
   ]
  },
  {
   "cell_type": "code",
   "execution_count": null,
   "metadata": {},
   "outputs": [],
   "source": [
    "#SR average\n",
    "\n",
    "ASR=df.SR.sum(axis=0)/209"
   ]
  },
  {
   "cell_type": "code",
   "execution_count": null,
   "metadata": {},
   "outputs": [],
   "source": [
    "df_3.head(2)"
   ]
  },
  {
   "cell_type": "code",
   "execution_count": null,
   "metadata": {},
   "outputs": [],
   "source": [
    "#calculate BP wher BP26 = e26 ×RP = e26×(SR/124.0)0.5 \n",
    "\n",
    "df_3['BP26'] = df_3.e26*(df_3.SR/ASR)**0.5"
   ]
  },
  {
   "cell_type": "code",
   "execution_count": null,
   "metadata": {},
   "outputs": [],
   "source": [
    "main_table=df_3[:]"
   ]
  },
  {
   "cell_type": "code",
   "execution_count": null,
   "metadata": {},
   "outputs": [],
   "source": [
    "main_table.head(2)"
   ]
  },
  {
   "cell_type": "code",
   "execution_count": null,
   "metadata": {},
   "outputs": [],
   "source": [
    "#Sort based on BP26(Efficient ways of doing this)\n",
    "main_table.drop(main_table.columns[[4,5,6,7,8,9,10,11]],axis=1, inplace=True)\n",
    "main_table = main_table.sort_values(by='BP26', ascending=False)\n",
    "#reset and start indexing from 1\n",
    "main_table = main_table.reset_index(drop=True)\n",
    "\n",
    "main_table.index += 1 "
   ]
  },
  {
   "cell_type": "code",
   "execution_count": null,
   "metadata": {},
   "outputs": [],
   "source": [
    "main_table.to_csv('batting_table.csv')\n",
    "df.to_csv('batting1.csv')\n",
    "result_1.to_csv('batting_sum.csv')\n",
    "result.to_csv('batting_with_not_out_symbol')\n"
   ]
  },
  {
   "cell_type": "code",
   "execution_count": null,
   "metadata": {},
   "outputs": [],
   "source": [
    "final_table= main_table.head(50)"
   ]
  },
  {
   "cell_type": "code",
   "execution_count": null,
   "metadata": {},
   "outputs": [],
   "source": [
    "\n",
    "final_table.to_csv('final_table.csv')"
   ]
  }
 ],
 "metadata": {
  "hide_code_all_hidden": false,
  "kernelspec": {
   "display_name": "Python 3",
   "language": "python",
   "name": "python3"
  },
  "language_info": {
   "codemirror_mode": {
    "name": "ipython",
    "version": 3
   },
   "file_extension": ".py",
   "mimetype": "text/x-python",
   "name": "python",
   "nbconvert_exporter": "python",
   "pygments_lexer": "ipython3",
   "version": "3.6.4"
  }
 },
 "nbformat": 4,
 "nbformat_minor": 2
}
